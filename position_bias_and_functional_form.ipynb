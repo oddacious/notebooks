{
  "nbformat": 4,
  "nbformat_minor": 0,
  "metadata": {
    "colab": {
      "provenance": [],
      "toc_visible": true
    },
    "kernelspec": {
      "name": "python3",
      "display_name": "Python 3"
    },
    "language_info": {
      "name": "python"
    }
  },
  "cells": [
    {
      "cell_type": "markdown",
      "source": [
        "# Set up the scenario"
      ],
      "metadata": {
        "id": "fCxKt54VDusF"
      }
    },
    {
      "cell_type": "code",
      "execution_count": null,
      "metadata": {
        "id": "BFv8mC6Ka-p3"
      },
      "outputs": [],
      "source": [
        "import numpy as np\n",
        "import pandas as pd\n",
        "import statsmodels.api as sm\n",
        "import matplotlib.pyplot as plt\n",
        "import sklearn\n",
        "import sklearn.calibration\n",
        "from sklearn.ensemble import GradientBoostingClassifier\n",
        "\n",
        "np.random.seed(3923)"
      ]
    },
    {
      "cell_type": "markdown",
      "source": [
        "## Generate candidates\n",
        "\n",
        "There are only two features: `num_reviews` and `avg_rating`. Each search has an identifier, `search_id`"
      ],
      "metadata": {
        "id": "nP8O8w0OCNtA"
      }
    },
    {
      "cell_type": "code",
      "source": [
        "def generate_searches(num_searches=1000, items_per_search=10):\n",
        "  results = None\n",
        "\n",
        "  total_rows = num_searches * items_per_search\n",
        "\n",
        "  results = pd.DataFrame({\n",
        "      \"num_reviews\": np.random.randint(low=1, high=100, size=total_rows),\n",
        "      \"avg_rating\": np.random.normal(loc=3, scale=1, size=total_rows),\n",
        "  })\n",
        "\n",
        "  results[\"search_id\"] = [int(index / items_per_search) for index in list(results.index)]\n",
        "\n",
        "  return results\n",
        "\n",
        "searches = generate_searches(num_searches=10000, items_per_search=30)\n",
        "\n",
        "None"
      ],
      "metadata": {
        "id": "vFWDNJ9JbETM"
      },
      "execution_count": null,
      "outputs": []
    },
    {
      "cell_type": "markdown",
      "source": [
        "## Apply a ranking\n",
        "\n",
        "Here choosing `num_reviews` as the sole feature to sort the rankings by."
      ],
      "metadata": {
        "id": "ALy8VnNNCVLZ"
      }
    },
    {
      "cell_type": "code",
      "source": [
        "def generate_ranking(searches, sorted_feature, ascending=False):\n",
        "  output = searches.copy()\n",
        "\n",
        "  # Use \"first\" to break ties arbitrarily\n",
        "  output[\"position\"] = output.groupby(\"search_id\")[sorted_feature].rank(\n",
        "      \"first\", ascending=ascending).astype(int)\n",
        "\n",
        "  return output\n",
        "\n",
        "with_ranking = generate_ranking(searches, \"num_reviews\")\n",
        "with_ranking.sort_values(by=[\"search_id\", \"position\"]).head(10)"
      ],
      "metadata": {
        "colab": {
          "base_uri": "https://localhost:8080/",
          "height": 363
        },
        "id": "gPNuZz0sbe0V",
        "outputId": "67f767fd-1e6e-400b-edbd-98ce988646b6"
      },
      "execution_count": null,
      "outputs": [
        {
          "output_type": "execute_result",
          "data": {
            "text/plain": [
              "    num_reviews  avg_rating  search_id  position\n",
              "6            99    2.113985          0         1\n",
              "17           94    3.274957          0         2\n",
              "13           93    2.794540          0         3\n",
              "7            91    2.328554          0         4\n",
              "8            85    3.854156          0         5\n",
              "27           82    3.960140          0         6\n",
              "3            77    4.804854          0         7\n",
              "14           76    3.236912          0         8\n",
              "22           75    4.660930          0         9\n",
              "20           68    0.927447          0        10"
            ],
            "text/html": [
              "\n",
              "  <div id=\"df-d37a98c6-2ed1-4b30-9470-ed9c54368ae6\">\n",
              "    <div class=\"colab-df-container\">\n",
              "      <div>\n",
              "<style scoped>\n",
              "    .dataframe tbody tr th:only-of-type {\n",
              "        vertical-align: middle;\n",
              "    }\n",
              "\n",
              "    .dataframe tbody tr th {\n",
              "        vertical-align: top;\n",
              "    }\n",
              "\n",
              "    .dataframe thead th {\n",
              "        text-align: right;\n",
              "    }\n",
              "</style>\n",
              "<table border=\"1\" class=\"dataframe\">\n",
              "  <thead>\n",
              "    <tr style=\"text-align: right;\">\n",
              "      <th></th>\n",
              "      <th>num_reviews</th>\n",
              "      <th>avg_rating</th>\n",
              "      <th>search_id</th>\n",
              "      <th>position</th>\n",
              "    </tr>\n",
              "  </thead>\n",
              "  <tbody>\n",
              "    <tr>\n",
              "      <th>6</th>\n",
              "      <td>99</td>\n",
              "      <td>2.113985</td>\n",
              "      <td>0</td>\n",
              "      <td>1</td>\n",
              "    </tr>\n",
              "    <tr>\n",
              "      <th>17</th>\n",
              "      <td>94</td>\n",
              "      <td>3.274957</td>\n",
              "      <td>0</td>\n",
              "      <td>2</td>\n",
              "    </tr>\n",
              "    <tr>\n",
              "      <th>13</th>\n",
              "      <td>93</td>\n",
              "      <td>2.794540</td>\n",
              "      <td>0</td>\n",
              "      <td>3</td>\n",
              "    </tr>\n",
              "    <tr>\n",
              "      <th>7</th>\n",
              "      <td>91</td>\n",
              "      <td>2.328554</td>\n",
              "      <td>0</td>\n",
              "      <td>4</td>\n",
              "    </tr>\n",
              "    <tr>\n",
              "      <th>8</th>\n",
              "      <td>85</td>\n",
              "      <td>3.854156</td>\n",
              "      <td>0</td>\n",
              "      <td>5</td>\n",
              "    </tr>\n",
              "    <tr>\n",
              "      <th>27</th>\n",
              "      <td>82</td>\n",
              "      <td>3.960140</td>\n",
              "      <td>0</td>\n",
              "      <td>6</td>\n",
              "    </tr>\n",
              "    <tr>\n",
              "      <th>3</th>\n",
              "      <td>77</td>\n",
              "      <td>4.804854</td>\n",
              "      <td>0</td>\n",
              "      <td>7</td>\n",
              "    </tr>\n",
              "    <tr>\n",
              "      <th>14</th>\n",
              "      <td>76</td>\n",
              "      <td>3.236912</td>\n",
              "      <td>0</td>\n",
              "      <td>8</td>\n",
              "    </tr>\n",
              "    <tr>\n",
              "      <th>22</th>\n",
              "      <td>75</td>\n",
              "      <td>4.660930</td>\n",
              "      <td>0</td>\n",
              "      <td>9</td>\n",
              "    </tr>\n",
              "    <tr>\n",
              "      <th>20</th>\n",
              "      <td>68</td>\n",
              "      <td>0.927447</td>\n",
              "      <td>0</td>\n",
              "      <td>10</td>\n",
              "    </tr>\n",
              "  </tbody>\n",
              "</table>\n",
              "</div>\n",
              "      <button class=\"colab-df-convert\" onclick=\"convertToInteractive('df-d37a98c6-2ed1-4b30-9470-ed9c54368ae6')\"\n",
              "              title=\"Convert this dataframe to an interactive table.\"\n",
              "              style=\"display:none;\">\n",
              "        \n",
              "  <svg xmlns=\"http://www.w3.org/2000/svg\" height=\"24px\"viewBox=\"0 0 24 24\"\n",
              "       width=\"24px\">\n",
              "    <path d=\"M0 0h24v24H0V0z\" fill=\"none\"/>\n",
              "    <path d=\"M18.56 5.44l.94 2.06.94-2.06 2.06-.94-2.06-.94-.94-2.06-.94 2.06-2.06.94zm-11 1L8.5 8.5l.94-2.06 2.06-.94-2.06-.94L8.5 2.5l-.94 2.06-2.06.94zm10 10l.94 2.06.94-2.06 2.06-.94-2.06-.94-.94-2.06-.94 2.06-2.06.94z\"/><path d=\"M17.41 7.96l-1.37-1.37c-.4-.4-.92-.59-1.43-.59-.52 0-1.04.2-1.43.59L10.3 9.45l-7.72 7.72c-.78.78-.78 2.05 0 2.83L4 21.41c.39.39.9.59 1.41.59.51 0 1.02-.2 1.41-.59l7.78-7.78 2.81-2.81c.8-.78.8-2.07 0-2.86zM5.41 20L4 18.59l7.72-7.72 1.47 1.35L5.41 20z\"/>\n",
              "  </svg>\n",
              "      </button>\n",
              "      \n",
              "  <style>\n",
              "    .colab-df-container {\n",
              "      display:flex;\n",
              "      flex-wrap:wrap;\n",
              "      gap: 12px;\n",
              "    }\n",
              "\n",
              "    .colab-df-convert {\n",
              "      background-color: #E8F0FE;\n",
              "      border: none;\n",
              "      border-radius: 50%;\n",
              "      cursor: pointer;\n",
              "      display: none;\n",
              "      fill: #1967D2;\n",
              "      height: 32px;\n",
              "      padding: 0 0 0 0;\n",
              "      width: 32px;\n",
              "    }\n",
              "\n",
              "    .colab-df-convert:hover {\n",
              "      background-color: #E2EBFA;\n",
              "      box-shadow: 0px 1px 2px rgba(60, 64, 67, 0.3), 0px 1px 3px 1px rgba(60, 64, 67, 0.15);\n",
              "      fill: #174EA6;\n",
              "    }\n",
              "\n",
              "    [theme=dark] .colab-df-convert {\n",
              "      background-color: #3B4455;\n",
              "      fill: #D2E3FC;\n",
              "    }\n",
              "\n",
              "    [theme=dark] .colab-df-convert:hover {\n",
              "      background-color: #434B5C;\n",
              "      box-shadow: 0px 1px 3px 1px rgba(0, 0, 0, 0.15);\n",
              "      filter: drop-shadow(0px 1px 2px rgba(0, 0, 0, 0.3));\n",
              "      fill: #FFFFFF;\n",
              "    }\n",
              "  </style>\n",
              "\n",
              "      <script>\n",
              "        const buttonEl =\n",
              "          document.querySelector('#df-d37a98c6-2ed1-4b30-9470-ed9c54368ae6 button.colab-df-convert');\n",
              "        buttonEl.style.display =\n",
              "          google.colab.kernel.accessAllowed ? 'block' : 'none';\n",
              "\n",
              "        async function convertToInteractive(key) {\n",
              "          const element = document.querySelector('#df-d37a98c6-2ed1-4b30-9470-ed9c54368ae6');\n",
              "          const dataTable =\n",
              "            await google.colab.kernel.invokeFunction('convertToInteractive',\n",
              "                                                     [key], {});\n",
              "          if (!dataTable) return;\n",
              "\n",
              "          const docLinkHtml = 'Like what you see? Visit the ' +\n",
              "            '<a target=\"_blank\" href=https://colab.research.google.com/notebooks/data_table.ipynb>data table notebook</a>'\n",
              "            + ' to learn more about interactive tables.';\n",
              "          element.innerHTML = '';\n",
              "          dataTable['output_type'] = 'display_data';\n",
              "          await google.colab.output.renderOutput(dataTable, element);\n",
              "          const docLink = document.createElement('div');\n",
              "          docLink.innerHTML = docLinkHtml;\n",
              "          element.appendChild(docLink);\n",
              "        }\n",
              "      </script>\n",
              "    </div>\n",
              "  </div>\n",
              "  "
            ]
          },
          "metadata": {},
          "execution_count": 3
        }
      ]
    },
    {
      "cell_type": "markdown",
      "source": [
        "## Apply customer behavior\n",
        "\n",
        "I specify a basic behavior model where users care about two factors: `position` and `avg_rating`. Here I use inverse position as a convenient function to represent diminishing preference for position."
      ],
      "metadata": {
        "id": "zHr-D-wkCyzx"
      }
    },
    {
      "cell_type": "code",
      "source": [
        "def sigmoid(x):\n",
        "  return 1 / (1 + np.exp(-x))\n",
        "\n",
        "def create_inverse(df, column, inplace=False):\n",
        "  if inplace:\n",
        "    output = df\n",
        "  else:\n",
        "    output = df.copy()\n",
        "\n",
        "  output[f\"inverse_{column}\"] = 1 / output[column]\n",
        "\n",
        "  return output\n",
        "\n",
        "def apply_customer_probability(searches, coefficients, features, inplace=False):\n",
        "  if len(features) != len(coefficients) - 1:\n",
        "    raise ValueError(\"Expecting one more coefficient than features\")\n",
        "\n",
        "  if inplace:\n",
        "    output = searches\n",
        "  else:\n",
        "    output = searches.copy()\n",
        "\n",
        "  logit = 0\n",
        "  for index, feature in enumerate(features):\n",
        "    logit += searches[features[index]] * coefficients[index + 1]\n",
        "  logit += coefficients[0]\n",
        "\n",
        "  output[\"probability\"] = sigmoid(logit)\n",
        "  \n",
        "  return output\n",
        "\n",
        "with_inverse = create_inverse(with_ranking, \"position\", inplace=True)\n",
        "with_probability = apply_customer_probability(\n",
        "    with_inverse, [-3, 5, 0.1], [\"inverse_position\", \"avg_rating\"])\n",
        "\n",
        "with_probability.sort_values(by=[\"search_id\", \"position\"]).head(10)"
      ],
      "metadata": {
        "colab": {
          "base_uri": "https://localhost:8080/",
          "height": 363
        },
        "id": "gvw-jp5KcJ7u",
        "outputId": "80e3e787-21d7-4a60-f81d-56ea4f9af5c1"
      },
      "execution_count": null,
      "outputs": [
        {
          "output_type": "execute_result",
          "data": {
            "text/plain": [
              "    num_reviews  avg_rating  search_id  position  inverse_position  \\\n",
              "6            99    2.113985          0         1          1.000000   \n",
              "17           94    3.274957          0         2          0.500000   \n",
              "13           93    2.794540          0         3          0.333333   \n",
              "7            91    2.328554          0         4          0.250000   \n",
              "8            85    3.854156          0         5          0.200000   \n",
              "27           82    3.960140          0         6          0.166667   \n",
              "3            77    4.804854          0         7          0.142857   \n",
              "14           76    3.236912          0         8          0.125000   \n",
              "22           75    4.660930          0         9          0.111111   \n",
              "20           68    0.927447          0        10          0.100000   \n",
              "\n",
              "    probability  \n",
              "6      0.901268  \n",
              "17     0.456981  \n",
              "13     0.258481  \n",
              "7      0.179882  \n",
              "8      0.165953  \n",
              "27     0.145461  \n",
              "3      0.141216  \n",
              "14     0.113920  \n",
              "22     0.121495  \n",
              "20     0.082621  "
            ],
            "text/html": [
              "\n",
              "  <div id=\"df-5863c131-60b7-4283-8b43-c2ae09c6f43b\">\n",
              "    <div class=\"colab-df-container\">\n",
              "      <div>\n",
              "<style scoped>\n",
              "    .dataframe tbody tr th:only-of-type {\n",
              "        vertical-align: middle;\n",
              "    }\n",
              "\n",
              "    .dataframe tbody tr th {\n",
              "        vertical-align: top;\n",
              "    }\n",
              "\n",
              "    .dataframe thead th {\n",
              "        text-align: right;\n",
              "    }\n",
              "</style>\n",
              "<table border=\"1\" class=\"dataframe\">\n",
              "  <thead>\n",
              "    <tr style=\"text-align: right;\">\n",
              "      <th></th>\n",
              "      <th>num_reviews</th>\n",
              "      <th>avg_rating</th>\n",
              "      <th>search_id</th>\n",
              "      <th>position</th>\n",
              "      <th>inverse_position</th>\n",
              "      <th>probability</th>\n",
              "    </tr>\n",
              "  </thead>\n",
              "  <tbody>\n",
              "    <tr>\n",
              "      <th>6</th>\n",
              "      <td>99</td>\n",
              "      <td>2.113985</td>\n",
              "      <td>0</td>\n",
              "      <td>1</td>\n",
              "      <td>1.000000</td>\n",
              "      <td>0.901268</td>\n",
              "    </tr>\n",
              "    <tr>\n",
              "      <th>17</th>\n",
              "      <td>94</td>\n",
              "      <td>3.274957</td>\n",
              "      <td>0</td>\n",
              "      <td>2</td>\n",
              "      <td>0.500000</td>\n",
              "      <td>0.456981</td>\n",
              "    </tr>\n",
              "    <tr>\n",
              "      <th>13</th>\n",
              "      <td>93</td>\n",
              "      <td>2.794540</td>\n",
              "      <td>0</td>\n",
              "      <td>3</td>\n",
              "      <td>0.333333</td>\n",
              "      <td>0.258481</td>\n",
              "    </tr>\n",
              "    <tr>\n",
              "      <th>7</th>\n",
              "      <td>91</td>\n",
              "      <td>2.328554</td>\n",
              "      <td>0</td>\n",
              "      <td>4</td>\n",
              "      <td>0.250000</td>\n",
              "      <td>0.179882</td>\n",
              "    </tr>\n",
              "    <tr>\n",
              "      <th>8</th>\n",
              "      <td>85</td>\n",
              "      <td>3.854156</td>\n",
              "      <td>0</td>\n",
              "      <td>5</td>\n",
              "      <td>0.200000</td>\n",
              "      <td>0.165953</td>\n",
              "    </tr>\n",
              "    <tr>\n",
              "      <th>27</th>\n",
              "      <td>82</td>\n",
              "      <td>3.960140</td>\n",
              "      <td>0</td>\n",
              "      <td>6</td>\n",
              "      <td>0.166667</td>\n",
              "      <td>0.145461</td>\n",
              "    </tr>\n",
              "    <tr>\n",
              "      <th>3</th>\n",
              "      <td>77</td>\n",
              "      <td>4.804854</td>\n",
              "      <td>0</td>\n",
              "      <td>7</td>\n",
              "      <td>0.142857</td>\n",
              "      <td>0.141216</td>\n",
              "    </tr>\n",
              "    <tr>\n",
              "      <th>14</th>\n",
              "      <td>76</td>\n",
              "      <td>3.236912</td>\n",
              "      <td>0</td>\n",
              "      <td>8</td>\n",
              "      <td>0.125000</td>\n",
              "      <td>0.113920</td>\n",
              "    </tr>\n",
              "    <tr>\n",
              "      <th>22</th>\n",
              "      <td>75</td>\n",
              "      <td>4.660930</td>\n",
              "      <td>0</td>\n",
              "      <td>9</td>\n",
              "      <td>0.111111</td>\n",
              "      <td>0.121495</td>\n",
              "    </tr>\n",
              "    <tr>\n",
              "      <th>20</th>\n",
              "      <td>68</td>\n",
              "      <td>0.927447</td>\n",
              "      <td>0</td>\n",
              "      <td>10</td>\n",
              "      <td>0.100000</td>\n",
              "      <td>0.082621</td>\n",
              "    </tr>\n",
              "  </tbody>\n",
              "</table>\n",
              "</div>\n",
              "      <button class=\"colab-df-convert\" onclick=\"convertToInteractive('df-5863c131-60b7-4283-8b43-c2ae09c6f43b')\"\n",
              "              title=\"Convert this dataframe to an interactive table.\"\n",
              "              style=\"display:none;\">\n",
              "        \n",
              "  <svg xmlns=\"http://www.w3.org/2000/svg\" height=\"24px\"viewBox=\"0 0 24 24\"\n",
              "       width=\"24px\">\n",
              "    <path d=\"M0 0h24v24H0V0z\" fill=\"none\"/>\n",
              "    <path d=\"M18.56 5.44l.94 2.06.94-2.06 2.06-.94-2.06-.94-.94-2.06-.94 2.06-2.06.94zm-11 1L8.5 8.5l.94-2.06 2.06-.94-2.06-.94L8.5 2.5l-.94 2.06-2.06.94zm10 10l.94 2.06.94-2.06 2.06-.94-2.06-.94-.94-2.06-.94 2.06-2.06.94z\"/><path d=\"M17.41 7.96l-1.37-1.37c-.4-.4-.92-.59-1.43-.59-.52 0-1.04.2-1.43.59L10.3 9.45l-7.72 7.72c-.78.78-.78 2.05 0 2.83L4 21.41c.39.39.9.59 1.41.59.51 0 1.02-.2 1.41-.59l7.78-7.78 2.81-2.81c.8-.78.8-2.07 0-2.86zM5.41 20L4 18.59l7.72-7.72 1.47 1.35L5.41 20z\"/>\n",
              "  </svg>\n",
              "      </button>\n",
              "      \n",
              "  <style>\n",
              "    .colab-df-container {\n",
              "      display:flex;\n",
              "      flex-wrap:wrap;\n",
              "      gap: 12px;\n",
              "    }\n",
              "\n",
              "    .colab-df-convert {\n",
              "      background-color: #E8F0FE;\n",
              "      border: none;\n",
              "      border-radius: 50%;\n",
              "      cursor: pointer;\n",
              "      display: none;\n",
              "      fill: #1967D2;\n",
              "      height: 32px;\n",
              "      padding: 0 0 0 0;\n",
              "      width: 32px;\n",
              "    }\n",
              "\n",
              "    .colab-df-convert:hover {\n",
              "      background-color: #E2EBFA;\n",
              "      box-shadow: 0px 1px 2px rgba(60, 64, 67, 0.3), 0px 1px 3px 1px rgba(60, 64, 67, 0.15);\n",
              "      fill: #174EA6;\n",
              "    }\n",
              "\n",
              "    [theme=dark] .colab-df-convert {\n",
              "      background-color: #3B4455;\n",
              "      fill: #D2E3FC;\n",
              "    }\n",
              "\n",
              "    [theme=dark] .colab-df-convert:hover {\n",
              "      background-color: #434B5C;\n",
              "      box-shadow: 0px 1px 3px 1px rgba(0, 0, 0, 0.15);\n",
              "      filter: drop-shadow(0px 1px 2px rgba(0, 0, 0, 0.3));\n",
              "      fill: #FFFFFF;\n",
              "    }\n",
              "  </style>\n",
              "\n",
              "      <script>\n",
              "        const buttonEl =\n",
              "          document.querySelector('#df-5863c131-60b7-4283-8b43-c2ae09c6f43b button.colab-df-convert');\n",
              "        buttonEl.style.display =\n",
              "          google.colab.kernel.accessAllowed ? 'block' : 'none';\n",
              "\n",
              "        async function convertToInteractive(key) {\n",
              "          const element = document.querySelector('#df-5863c131-60b7-4283-8b43-c2ae09c6f43b');\n",
              "          const dataTable =\n",
              "            await google.colab.kernel.invokeFunction('convertToInteractive',\n",
              "                                                     [key], {});\n",
              "          if (!dataTable) return;\n",
              "\n",
              "          const docLinkHtml = 'Like what you see? Visit the ' +\n",
              "            '<a target=\"_blank\" href=https://colab.research.google.com/notebooks/data_table.ipynb>data table notebook</a>'\n",
              "            + ' to learn more about interactive tables.';\n",
              "          element.innerHTML = '';\n",
              "          dataTable['output_type'] = 'display_data';\n",
              "          await google.colab.output.renderOutput(dataTable, element);\n",
              "          const docLink = document.createElement('div');\n",
              "          docLink.innerHTML = docLinkHtml;\n",
              "          element.appendChild(docLink);\n",
              "        }\n",
              "      </script>\n",
              "    </div>\n",
              "  </div>\n",
              "  "
            ]
          },
          "metadata": {},
          "execution_count": 4
        }
      ]
    },
    {
      "cell_type": "markdown",
      "source": [
        "## Generate labels\n",
        "\n",
        "Generate binary labels randomly, using the output from the probability model specified earlier."
      ],
      "metadata": {
        "id": "XDK4wjG2DiDO"
      }
    },
    {
      "cell_type": "code",
      "source": [
        "def apply_labels(searches, label, inplace=False):\n",
        "  if inplace:\n",
        "    output = searches\n",
        "  else:\n",
        "    output = searches.copy()\n",
        "\n",
        "  random_numbers = np.random.uniform(size=len(searches))\n",
        "  output[label] = random_numbers <= output[\"probability\"]\n",
        "\n",
        "  return output\n",
        "\n",
        "label = \"had_click\"\n",
        "\n",
        "with_labels = apply_labels(with_probability, label, inplace=True)\n",
        "\n",
        "with_labels.sort_values(by=[\"search_id\", \"position\"]).head(10)"
      ],
      "metadata": {
        "colab": {
          "base_uri": "https://localhost:8080/",
          "height": 363
        },
        "id": "oOLMMSscc75k",
        "outputId": "d9c51632-decf-42c2-99e9-eb05ff0a688c"
      },
      "execution_count": null,
      "outputs": [
        {
          "output_type": "execute_result",
          "data": {
            "text/plain": [
              "    num_reviews  avg_rating  search_id  position  inverse_position  \\\n",
              "6            99    2.113985          0         1          1.000000   \n",
              "17           94    3.274957          0         2          0.500000   \n",
              "13           93    2.794540          0         3          0.333333   \n",
              "7            91    2.328554          0         4          0.250000   \n",
              "8            85    3.854156          0         5          0.200000   \n",
              "27           82    3.960140          0         6          0.166667   \n",
              "3            77    4.804854          0         7          0.142857   \n",
              "14           76    3.236912          0         8          0.125000   \n",
              "22           75    4.660930          0         9          0.111111   \n",
              "20           68    0.927447          0        10          0.100000   \n",
              "\n",
              "    probability  had_click  \n",
              "6      0.901268       True  \n",
              "17     0.456981       True  \n",
              "13     0.258481      False  \n",
              "7      0.179882      False  \n",
              "8      0.165953      False  \n",
              "27     0.145461      False  \n",
              "3      0.141216      False  \n",
              "14     0.113920      False  \n",
              "22     0.121495      False  \n",
              "20     0.082621       True  "
            ],
            "text/html": [
              "\n",
              "  <div id=\"df-18f70dd7-fc1d-414f-a03a-f604a7976d53\">\n",
              "    <div class=\"colab-df-container\">\n",
              "      <div>\n",
              "<style scoped>\n",
              "    .dataframe tbody tr th:only-of-type {\n",
              "        vertical-align: middle;\n",
              "    }\n",
              "\n",
              "    .dataframe tbody tr th {\n",
              "        vertical-align: top;\n",
              "    }\n",
              "\n",
              "    .dataframe thead th {\n",
              "        text-align: right;\n",
              "    }\n",
              "</style>\n",
              "<table border=\"1\" class=\"dataframe\">\n",
              "  <thead>\n",
              "    <tr style=\"text-align: right;\">\n",
              "      <th></th>\n",
              "      <th>num_reviews</th>\n",
              "      <th>avg_rating</th>\n",
              "      <th>search_id</th>\n",
              "      <th>position</th>\n",
              "      <th>inverse_position</th>\n",
              "      <th>probability</th>\n",
              "      <th>had_click</th>\n",
              "    </tr>\n",
              "  </thead>\n",
              "  <tbody>\n",
              "    <tr>\n",
              "      <th>6</th>\n",
              "      <td>99</td>\n",
              "      <td>2.113985</td>\n",
              "      <td>0</td>\n",
              "      <td>1</td>\n",
              "      <td>1.000000</td>\n",
              "      <td>0.901268</td>\n",
              "      <td>True</td>\n",
              "    </tr>\n",
              "    <tr>\n",
              "      <th>17</th>\n",
              "      <td>94</td>\n",
              "      <td>3.274957</td>\n",
              "      <td>0</td>\n",
              "      <td>2</td>\n",
              "      <td>0.500000</td>\n",
              "      <td>0.456981</td>\n",
              "      <td>True</td>\n",
              "    </tr>\n",
              "    <tr>\n",
              "      <th>13</th>\n",
              "      <td>93</td>\n",
              "      <td>2.794540</td>\n",
              "      <td>0</td>\n",
              "      <td>3</td>\n",
              "      <td>0.333333</td>\n",
              "      <td>0.258481</td>\n",
              "      <td>False</td>\n",
              "    </tr>\n",
              "    <tr>\n",
              "      <th>7</th>\n",
              "      <td>91</td>\n",
              "      <td>2.328554</td>\n",
              "      <td>0</td>\n",
              "      <td>4</td>\n",
              "      <td>0.250000</td>\n",
              "      <td>0.179882</td>\n",
              "      <td>False</td>\n",
              "    </tr>\n",
              "    <tr>\n",
              "      <th>8</th>\n",
              "      <td>85</td>\n",
              "      <td>3.854156</td>\n",
              "      <td>0</td>\n",
              "      <td>5</td>\n",
              "      <td>0.200000</td>\n",
              "      <td>0.165953</td>\n",
              "      <td>False</td>\n",
              "    </tr>\n",
              "    <tr>\n",
              "      <th>27</th>\n",
              "      <td>82</td>\n",
              "      <td>3.960140</td>\n",
              "      <td>0</td>\n",
              "      <td>6</td>\n",
              "      <td>0.166667</td>\n",
              "      <td>0.145461</td>\n",
              "      <td>False</td>\n",
              "    </tr>\n",
              "    <tr>\n",
              "      <th>3</th>\n",
              "      <td>77</td>\n",
              "      <td>4.804854</td>\n",
              "      <td>0</td>\n",
              "      <td>7</td>\n",
              "      <td>0.142857</td>\n",
              "      <td>0.141216</td>\n",
              "      <td>False</td>\n",
              "    </tr>\n",
              "    <tr>\n",
              "      <th>14</th>\n",
              "      <td>76</td>\n",
              "      <td>3.236912</td>\n",
              "      <td>0</td>\n",
              "      <td>8</td>\n",
              "      <td>0.125000</td>\n",
              "      <td>0.113920</td>\n",
              "      <td>False</td>\n",
              "    </tr>\n",
              "    <tr>\n",
              "      <th>22</th>\n",
              "      <td>75</td>\n",
              "      <td>4.660930</td>\n",
              "      <td>0</td>\n",
              "      <td>9</td>\n",
              "      <td>0.111111</td>\n",
              "      <td>0.121495</td>\n",
              "      <td>False</td>\n",
              "    </tr>\n",
              "    <tr>\n",
              "      <th>20</th>\n",
              "      <td>68</td>\n",
              "      <td>0.927447</td>\n",
              "      <td>0</td>\n",
              "      <td>10</td>\n",
              "      <td>0.100000</td>\n",
              "      <td>0.082621</td>\n",
              "      <td>True</td>\n",
              "    </tr>\n",
              "  </tbody>\n",
              "</table>\n",
              "</div>\n",
              "      <button class=\"colab-df-convert\" onclick=\"convertToInteractive('df-18f70dd7-fc1d-414f-a03a-f604a7976d53')\"\n",
              "              title=\"Convert this dataframe to an interactive table.\"\n",
              "              style=\"display:none;\">\n",
              "        \n",
              "  <svg xmlns=\"http://www.w3.org/2000/svg\" height=\"24px\"viewBox=\"0 0 24 24\"\n",
              "       width=\"24px\">\n",
              "    <path d=\"M0 0h24v24H0V0z\" fill=\"none\"/>\n",
              "    <path d=\"M18.56 5.44l.94 2.06.94-2.06 2.06-.94-2.06-.94-.94-2.06-.94 2.06-2.06.94zm-11 1L8.5 8.5l.94-2.06 2.06-.94-2.06-.94L8.5 2.5l-.94 2.06-2.06.94zm10 10l.94 2.06.94-2.06 2.06-.94-2.06-.94-.94-2.06-.94 2.06-2.06.94z\"/><path d=\"M17.41 7.96l-1.37-1.37c-.4-.4-.92-.59-1.43-.59-.52 0-1.04.2-1.43.59L10.3 9.45l-7.72 7.72c-.78.78-.78 2.05 0 2.83L4 21.41c.39.39.9.59 1.41.59.51 0 1.02-.2 1.41-.59l7.78-7.78 2.81-2.81c.8-.78.8-2.07 0-2.86zM5.41 20L4 18.59l7.72-7.72 1.47 1.35L5.41 20z\"/>\n",
              "  </svg>\n",
              "      </button>\n",
              "      \n",
              "  <style>\n",
              "    .colab-df-container {\n",
              "      display:flex;\n",
              "      flex-wrap:wrap;\n",
              "      gap: 12px;\n",
              "    }\n",
              "\n",
              "    .colab-df-convert {\n",
              "      background-color: #E8F0FE;\n",
              "      border: none;\n",
              "      border-radius: 50%;\n",
              "      cursor: pointer;\n",
              "      display: none;\n",
              "      fill: #1967D2;\n",
              "      height: 32px;\n",
              "      padding: 0 0 0 0;\n",
              "      width: 32px;\n",
              "    }\n",
              "\n",
              "    .colab-df-convert:hover {\n",
              "      background-color: #E2EBFA;\n",
              "      box-shadow: 0px 1px 2px rgba(60, 64, 67, 0.3), 0px 1px 3px 1px rgba(60, 64, 67, 0.15);\n",
              "      fill: #174EA6;\n",
              "    }\n",
              "\n",
              "    [theme=dark] .colab-df-convert {\n",
              "      background-color: #3B4455;\n",
              "      fill: #D2E3FC;\n",
              "    }\n",
              "\n",
              "    [theme=dark] .colab-df-convert:hover {\n",
              "      background-color: #434B5C;\n",
              "      box-shadow: 0px 1px 3px 1px rgba(0, 0, 0, 0.15);\n",
              "      filter: drop-shadow(0px 1px 2px rgba(0, 0, 0, 0.3));\n",
              "      fill: #FFFFFF;\n",
              "    }\n",
              "  </style>\n",
              "\n",
              "      <script>\n",
              "        const buttonEl =\n",
              "          document.querySelector('#df-18f70dd7-fc1d-414f-a03a-f604a7976d53 button.colab-df-convert');\n",
              "        buttonEl.style.display =\n",
              "          google.colab.kernel.accessAllowed ? 'block' : 'none';\n",
              "\n",
              "        async function convertToInteractive(key) {\n",
              "          const element = document.querySelector('#df-18f70dd7-fc1d-414f-a03a-f604a7976d53');\n",
              "          const dataTable =\n",
              "            await google.colab.kernel.invokeFunction('convertToInteractive',\n",
              "                                                     [key], {});\n",
              "          if (!dataTable) return;\n",
              "\n",
              "          const docLinkHtml = 'Like what you see? Visit the ' +\n",
              "            '<a target=\"_blank\" href=https://colab.research.google.com/notebooks/data_table.ipynb>data table notebook</a>'\n",
              "            + ' to learn more about interactive tables.';\n",
              "          element.innerHTML = '';\n",
              "          dataTable['output_type'] = 'display_data';\n",
              "          await google.colab.output.renderOutput(dataTable, element);\n",
              "          const docLink = document.createElement('div');\n",
              "          docLink.innerHTML = docLinkHtml;\n",
              "          element.appendChild(docLink);\n",
              "        }\n",
              "      </script>\n",
              "    </div>\n",
              "  </div>\n",
              "  "
            ]
          },
          "metadata": {},
          "execution_count": 5
        }
      ]
    },
    {
      "cell_type": "markdown",
      "source": [
        "`inverse_position` has a strong positive correlation with `had_click`, which we should expect since position is important.\n",
        "\n",
        "`num_reviews` has a similarly strong correlation with `had_click`, because `num_reviews` is how we rank. Even though users in our behavior model don't actually care about `num_reviews`, they care about rank and the correlation between rank and `num_reviews` leads to a correlation between the label and `num_reviews`."
      ],
      "metadata": {
        "id": "SxWeptF1Ec_5"
      }
    },
    {
      "cell_type": "code",
      "source": [
        "features_with_position = [\"inverse_position\", \"avg_rating\", \"num_reviews\"]\n",
        "\n",
        "with_labels[[label] + features_with_position].corr(method=\"spearman\")"
      ],
      "metadata": {
        "colab": {
          "base_uri": "https://localhost:8080/",
          "height": 175
        },
        "id": "W--RZQXP-C6P",
        "outputId": "5758628f-780d-41c3-9b31-0a71367fb89f"
      },
      "execution_count": null,
      "outputs": [
        {
          "output_type": "execute_result",
          "data": {
            "text/plain": [
              "                  had_click  inverse_position  avg_rating  num_reviews\n",
              "had_click          1.000000          0.257624    0.025949     0.249675\n",
              "inverse_position   0.257624          1.000000   -0.000406     0.967182\n",
              "avg_rating         0.025949         -0.000406    1.000000    -0.000904\n",
              "num_reviews        0.249675          0.967182   -0.000904     1.000000"
            ],
            "text/html": [
              "\n",
              "  <div id=\"df-21fe1058-a752-489b-bd27-65dc94d772aa\">\n",
              "    <div class=\"colab-df-container\">\n",
              "      <div>\n",
              "<style scoped>\n",
              "    .dataframe tbody tr th:only-of-type {\n",
              "        vertical-align: middle;\n",
              "    }\n",
              "\n",
              "    .dataframe tbody tr th {\n",
              "        vertical-align: top;\n",
              "    }\n",
              "\n",
              "    .dataframe thead th {\n",
              "        text-align: right;\n",
              "    }\n",
              "</style>\n",
              "<table border=\"1\" class=\"dataframe\">\n",
              "  <thead>\n",
              "    <tr style=\"text-align: right;\">\n",
              "      <th></th>\n",
              "      <th>had_click</th>\n",
              "      <th>inverse_position</th>\n",
              "      <th>avg_rating</th>\n",
              "      <th>num_reviews</th>\n",
              "    </tr>\n",
              "  </thead>\n",
              "  <tbody>\n",
              "    <tr>\n",
              "      <th>had_click</th>\n",
              "      <td>1.000000</td>\n",
              "      <td>0.257624</td>\n",
              "      <td>0.025949</td>\n",
              "      <td>0.249675</td>\n",
              "    </tr>\n",
              "    <tr>\n",
              "      <th>inverse_position</th>\n",
              "      <td>0.257624</td>\n",
              "      <td>1.000000</td>\n",
              "      <td>-0.000406</td>\n",
              "      <td>0.967182</td>\n",
              "    </tr>\n",
              "    <tr>\n",
              "      <th>avg_rating</th>\n",
              "      <td>0.025949</td>\n",
              "      <td>-0.000406</td>\n",
              "      <td>1.000000</td>\n",
              "      <td>-0.000904</td>\n",
              "    </tr>\n",
              "    <tr>\n",
              "      <th>num_reviews</th>\n",
              "      <td>0.249675</td>\n",
              "      <td>0.967182</td>\n",
              "      <td>-0.000904</td>\n",
              "      <td>1.000000</td>\n",
              "    </tr>\n",
              "  </tbody>\n",
              "</table>\n",
              "</div>\n",
              "      <button class=\"colab-df-convert\" onclick=\"convertToInteractive('df-21fe1058-a752-489b-bd27-65dc94d772aa')\"\n",
              "              title=\"Convert this dataframe to an interactive table.\"\n",
              "              style=\"display:none;\">\n",
              "        \n",
              "  <svg xmlns=\"http://www.w3.org/2000/svg\" height=\"24px\"viewBox=\"0 0 24 24\"\n",
              "       width=\"24px\">\n",
              "    <path d=\"M0 0h24v24H0V0z\" fill=\"none\"/>\n",
              "    <path d=\"M18.56 5.44l.94 2.06.94-2.06 2.06-.94-2.06-.94-.94-2.06-.94 2.06-2.06.94zm-11 1L8.5 8.5l.94-2.06 2.06-.94-2.06-.94L8.5 2.5l-.94 2.06-2.06.94zm10 10l.94 2.06.94-2.06 2.06-.94-2.06-.94-.94-2.06-.94 2.06-2.06.94z\"/><path d=\"M17.41 7.96l-1.37-1.37c-.4-.4-.92-.59-1.43-.59-.52 0-1.04.2-1.43.59L10.3 9.45l-7.72 7.72c-.78.78-.78 2.05 0 2.83L4 21.41c.39.39.9.59 1.41.59.51 0 1.02-.2 1.41-.59l7.78-7.78 2.81-2.81c.8-.78.8-2.07 0-2.86zM5.41 20L4 18.59l7.72-7.72 1.47 1.35L5.41 20z\"/>\n",
              "  </svg>\n",
              "      </button>\n",
              "      \n",
              "  <style>\n",
              "    .colab-df-container {\n",
              "      display:flex;\n",
              "      flex-wrap:wrap;\n",
              "      gap: 12px;\n",
              "    }\n",
              "\n",
              "    .colab-df-convert {\n",
              "      background-color: #E8F0FE;\n",
              "      border: none;\n",
              "      border-radius: 50%;\n",
              "      cursor: pointer;\n",
              "      display: none;\n",
              "      fill: #1967D2;\n",
              "      height: 32px;\n",
              "      padding: 0 0 0 0;\n",
              "      width: 32px;\n",
              "    }\n",
              "\n",
              "    .colab-df-convert:hover {\n",
              "      background-color: #E2EBFA;\n",
              "      box-shadow: 0px 1px 2px rgba(60, 64, 67, 0.3), 0px 1px 3px 1px rgba(60, 64, 67, 0.15);\n",
              "      fill: #174EA6;\n",
              "    }\n",
              "\n",
              "    [theme=dark] .colab-df-convert {\n",
              "      background-color: #3B4455;\n",
              "      fill: #D2E3FC;\n",
              "    }\n",
              "\n",
              "    [theme=dark] .colab-df-convert:hover {\n",
              "      background-color: #434B5C;\n",
              "      box-shadow: 0px 1px 3px 1px rgba(0, 0, 0, 0.15);\n",
              "      filter: drop-shadow(0px 1px 2px rgba(0, 0, 0, 0.3));\n",
              "      fill: #FFFFFF;\n",
              "    }\n",
              "  </style>\n",
              "\n",
              "      <script>\n",
              "        const buttonEl =\n",
              "          document.querySelector('#df-21fe1058-a752-489b-bd27-65dc94d772aa button.colab-df-convert');\n",
              "        buttonEl.style.display =\n",
              "          google.colab.kernel.accessAllowed ? 'block' : 'none';\n",
              "\n",
              "        async function convertToInteractive(key) {\n",
              "          const element = document.querySelector('#df-21fe1058-a752-489b-bd27-65dc94d772aa');\n",
              "          const dataTable =\n",
              "            await google.colab.kernel.invokeFunction('convertToInteractive',\n",
              "                                                     [key], {});\n",
              "          if (!dataTable) return;\n",
              "\n",
              "          const docLinkHtml = 'Like what you see? Visit the ' +\n",
              "            '<a target=\"_blank\" href=https://colab.research.google.com/notebooks/data_table.ipynb>data table notebook</a>'\n",
              "            + ' to learn more about interactive tables.';\n",
              "          element.innerHTML = '';\n",
              "          dataTable['output_type'] = 'display_data';\n",
              "          await google.colab.output.renderOutput(dataTable, element);\n",
              "          const docLink = document.createElement('div');\n",
              "          docLink.innerHTML = docLinkHtml;\n",
              "          element.appendChild(docLink);\n",
              "        }\n",
              "      </script>\n",
              "    </div>\n",
              "  </div>\n",
              "  "
            ]
          },
          "metadata": {},
          "execution_count": 6
        }
      ]
    },
    {
      "cell_type": "markdown",
      "source": [
        "# Models"
      ],
      "metadata": {
        "id": "5Gj09Uo9EJ8G"
      }
    },
    {
      "cell_type": "markdown",
      "source": [
        "## Model without position\n",
        "\n",
        "Here we use `avg_rating` and `num_reviews` as our two features. Note that both have a positive coefficient, with `num_reviews` having a relatively larger coefficient (relative to its scale) that is much more significant.\n",
        "\n",
        "The coefficient for `avg_rating` (~0.08) is below the true value of its causal impact on the label (0.1)."
      ],
      "metadata": {
        "id": "Ezmgt3X1ENpn"
      }
    },
    {
      "cell_type": "code",
      "source": [
        "features_without_position = [\"avg_rating\", \"num_reviews\"]\n",
        "\n",
        "logistic_without_position = sm.Logit(\n",
        "    with_labels[label],\n",
        "    sm.add_constant(with_labels[features_without_position].astype(float),\n",
        "                    has_constant='add')\n",
        "    ).fit()\n",
        "\n",
        "logistic_without_position.summary()"
      ],
      "metadata": {
        "colab": {
          "base_uri": "https://localhost:8080/",
          "height": 383
        },
        "id": "z52DbeiW-96P",
        "outputId": "855a1e1b-915e-4f9e-82d8-1f38b0ed4056"
      },
      "execution_count": null,
      "outputs": [
        {
          "output_type": "stream",
          "name": "stderr",
          "text": [
            "/usr/local/lib/python3.7/dist-packages/statsmodels/tsa/tsatools.py:142: FutureWarning: In a future version of pandas all arguments of concat except for the argument 'objs' will be keyword-only\n",
            "  x = pd.concat(x[::order], 1)\n"
          ]
        },
        {
          "output_type": "stream",
          "name": "stdout",
          "text": [
            "Optimization terminated successfully.\n",
            "         Current function value: 0.368920\n",
            "         Iterations 7\n"
          ]
        },
        {
          "output_type": "execute_result",
          "data": {
            "text/plain": [
              "<class 'statsmodels.iolib.summary.Summary'>\n",
              "\"\"\"\n",
              "                           Logit Regression Results                           \n",
              "==============================================================================\n",
              "Dep. Variable:              had_click   No. Observations:               300000\n",
              "Model:                          Logit   Df Residuals:                   299997\n",
              "Method:                           MLE   Df Model:                            2\n",
              "Date:                Wed, 09 Nov 2022   Pseudo R-squ.:                 0.08230\n",
              "Time:                        19:39:08   Log-Likelihood:            -1.1068e+05\n",
              "converged:                       True   LL-Null:                   -1.2060e+05\n",
              "Covariance Type:            nonrobust   LLR p-value:                     0.000\n",
              "===============================================================================\n",
              "                  coef    std err          z      P>|z|      [0.025      0.975]\n",
              "-------------------------------------------------------------------------------\n",
              "const          -3.7064      0.023   -162.992      0.000      -3.751      -3.662\n",
              "avg_rating      0.0838      0.005     15.253      0.000       0.073       0.095\n",
              "num_reviews     0.0280      0.000    129.728      0.000       0.028       0.028\n",
              "===============================================================================\n",
              "\"\"\""
            ],
            "text/html": [
              "<table class=\"simpletable\">\n",
              "<caption>Logit Regression Results</caption>\n",
              "<tr>\n",
              "  <th>Dep. Variable:</th>       <td>had_click</td>    <th>  No. Observations:  </th>   <td>300000</td>   \n",
              "</tr>\n",
              "<tr>\n",
              "  <th>Model:</th>                 <td>Logit</td>      <th>  Df Residuals:      </th>   <td>299997</td>   \n",
              "</tr>\n",
              "<tr>\n",
              "  <th>Method:</th>                 <td>MLE</td>       <th>  Df Model:          </th>   <td>     2</td>   \n",
              "</tr>\n",
              "<tr>\n",
              "  <th>Date:</th>            <td>Wed, 09 Nov 2022</td> <th>  Pseudo R-squ.:     </th>   <td>0.08230</td>  \n",
              "</tr>\n",
              "<tr>\n",
              "  <th>Time:</th>                <td>19:39:08</td>     <th>  Log-Likelihood:    </th> <td>-1.1068e+05</td>\n",
              "</tr>\n",
              "<tr>\n",
              "  <th>converged:</th>             <td>True</td>       <th>  LL-Null:           </th> <td>-1.2060e+05</td>\n",
              "</tr>\n",
              "<tr>\n",
              "  <th>Covariance Type:</th>     <td>nonrobust</td>    <th>  LLR p-value:       </th>   <td> 0.000</td>   \n",
              "</tr>\n",
              "</table>\n",
              "<table class=\"simpletable\">\n",
              "<tr>\n",
              "       <td></td>          <th>coef</th>     <th>std err</th>      <th>z</th>      <th>P>|z|</th>  <th>[0.025</th>    <th>0.975]</th>  \n",
              "</tr>\n",
              "<tr>\n",
              "  <th>const</th>       <td>   -3.7064</td> <td>    0.023</td> <td> -162.992</td> <td> 0.000</td> <td>   -3.751</td> <td>   -3.662</td>\n",
              "</tr>\n",
              "<tr>\n",
              "  <th>avg_rating</th>  <td>    0.0838</td> <td>    0.005</td> <td>   15.253</td> <td> 0.000</td> <td>    0.073</td> <td>    0.095</td>\n",
              "</tr>\n",
              "<tr>\n",
              "  <th>num_reviews</th> <td>    0.0280</td> <td>    0.000</td> <td>  129.728</td> <td> 0.000</td> <td>    0.028</td> <td>    0.028</td>\n",
              "</tr>\n",
              "</table>"
            ]
          },
          "metadata": {},
          "execution_count": 7
        }
      ]
    },
    {
      "cell_type": "markdown",
      "source": [
        "## Test against a different ranker\n",
        "\n",
        "Let's create a new sample with a very different ranker. An exactly opposite ranker, in fact, that ranks *ascendingly* by `num_reviews`. Users have unchanged behavior where they still care exclusively about position and `avg_rating`."
      ],
      "metadata": {
        "id": "eVxwjyJHGdRE"
      }
    },
    {
      "cell_type": "code",
      "source": [
        "test_searches = generate_searches(num_searches=10000, items_per_search=30)\n",
        "test_with_ranking = generate_ranking(test_searches, \"num_reviews\", ascending=True)\n",
        "test_with_inverse = create_inverse(test_with_ranking, \"position\", inplace=True)\n",
        "test_with_probability = apply_customer_probability(\n",
        "    test_with_inverse, [-3, 5, 0.1], [\"inverse_position\", \"avg_rating\"])\n",
        "test_with_labels = apply_labels(test_with_probability, label, inplace=True)\n",
        "\n",
        "test_with_labels.sort_values(by=[\"search_id\", \"position\"]).head(10)"
      ],
      "metadata": {
        "colab": {
          "base_uri": "https://localhost:8080/",
          "height": 363
        },
        "id": "A6OdK2wd_Vc5",
        "outputId": "316df22d-d11a-4d67-8694-cc56fc94a2b4"
      },
      "execution_count": null,
      "outputs": [
        {
          "output_type": "execute_result",
          "data": {
            "text/plain": [
              "    num_reviews  avg_rating  search_id  position  inverse_position  \\\n",
              "21            3    2.999291          0         1          1.000000   \n",
              "6             5    4.289860          0         2          0.500000   \n",
              "24            6    3.237804          0         3          0.333333   \n",
              "2             7    4.608433          0         4          0.250000   \n",
              "25           16    4.944281          0         5          0.200000   \n",
              "1            18    2.468763          0         6          0.166667   \n",
              "28           19    4.206485          0         7          0.142857   \n",
              "7            21    3.450691          0         8          0.125000   \n",
              "13           22    2.380028          0         9          0.111111   \n",
              "4            25    1.229602          0        10          0.100000   \n",
              "\n",
              "    probability  had_click  \n",
              "21     0.908871       True  \n",
              "6      0.482254       True  \n",
              "24     0.267067      False  \n",
              "2      0.215996      False  \n",
              "25     0.181596      False  \n",
              "1      0.127885       True  \n",
              "28     0.134114      False  \n",
              "7      0.116096      False  \n",
              "13     0.099174      False  \n",
              "4      0.084940      False  "
            ],
            "text/html": [
              "\n",
              "  <div id=\"df-44a2a1ea-bf43-4345-a090-ac2e235a741c\">\n",
              "    <div class=\"colab-df-container\">\n",
              "      <div>\n",
              "<style scoped>\n",
              "    .dataframe tbody tr th:only-of-type {\n",
              "        vertical-align: middle;\n",
              "    }\n",
              "\n",
              "    .dataframe tbody tr th {\n",
              "        vertical-align: top;\n",
              "    }\n",
              "\n",
              "    .dataframe thead th {\n",
              "        text-align: right;\n",
              "    }\n",
              "</style>\n",
              "<table border=\"1\" class=\"dataframe\">\n",
              "  <thead>\n",
              "    <tr style=\"text-align: right;\">\n",
              "      <th></th>\n",
              "      <th>num_reviews</th>\n",
              "      <th>avg_rating</th>\n",
              "      <th>search_id</th>\n",
              "      <th>position</th>\n",
              "      <th>inverse_position</th>\n",
              "      <th>probability</th>\n",
              "      <th>had_click</th>\n",
              "    </tr>\n",
              "  </thead>\n",
              "  <tbody>\n",
              "    <tr>\n",
              "      <th>21</th>\n",
              "      <td>3</td>\n",
              "      <td>2.999291</td>\n",
              "      <td>0</td>\n",
              "      <td>1</td>\n",
              "      <td>1.000000</td>\n",
              "      <td>0.908871</td>\n",
              "      <td>True</td>\n",
              "    </tr>\n",
              "    <tr>\n",
              "      <th>6</th>\n",
              "      <td>5</td>\n",
              "      <td>4.289860</td>\n",
              "      <td>0</td>\n",
              "      <td>2</td>\n",
              "      <td>0.500000</td>\n",
              "      <td>0.482254</td>\n",
              "      <td>True</td>\n",
              "    </tr>\n",
              "    <tr>\n",
              "      <th>24</th>\n",
              "      <td>6</td>\n",
              "      <td>3.237804</td>\n",
              "      <td>0</td>\n",
              "      <td>3</td>\n",
              "      <td>0.333333</td>\n",
              "      <td>0.267067</td>\n",
              "      <td>False</td>\n",
              "    </tr>\n",
              "    <tr>\n",
              "      <th>2</th>\n",
              "      <td>7</td>\n",
              "      <td>4.608433</td>\n",
              "      <td>0</td>\n",
              "      <td>4</td>\n",
              "      <td>0.250000</td>\n",
              "      <td>0.215996</td>\n",
              "      <td>False</td>\n",
              "    </tr>\n",
              "    <tr>\n",
              "      <th>25</th>\n",
              "      <td>16</td>\n",
              "      <td>4.944281</td>\n",
              "      <td>0</td>\n",
              "      <td>5</td>\n",
              "      <td>0.200000</td>\n",
              "      <td>0.181596</td>\n",
              "      <td>False</td>\n",
              "    </tr>\n",
              "    <tr>\n",
              "      <th>1</th>\n",
              "      <td>18</td>\n",
              "      <td>2.468763</td>\n",
              "      <td>0</td>\n",
              "      <td>6</td>\n",
              "      <td>0.166667</td>\n",
              "      <td>0.127885</td>\n",
              "      <td>True</td>\n",
              "    </tr>\n",
              "    <tr>\n",
              "      <th>28</th>\n",
              "      <td>19</td>\n",
              "      <td>4.206485</td>\n",
              "      <td>0</td>\n",
              "      <td>7</td>\n",
              "      <td>0.142857</td>\n",
              "      <td>0.134114</td>\n",
              "      <td>False</td>\n",
              "    </tr>\n",
              "    <tr>\n",
              "      <th>7</th>\n",
              "      <td>21</td>\n",
              "      <td>3.450691</td>\n",
              "      <td>0</td>\n",
              "      <td>8</td>\n",
              "      <td>0.125000</td>\n",
              "      <td>0.116096</td>\n",
              "      <td>False</td>\n",
              "    </tr>\n",
              "    <tr>\n",
              "      <th>13</th>\n",
              "      <td>22</td>\n",
              "      <td>2.380028</td>\n",
              "      <td>0</td>\n",
              "      <td>9</td>\n",
              "      <td>0.111111</td>\n",
              "      <td>0.099174</td>\n",
              "      <td>False</td>\n",
              "    </tr>\n",
              "    <tr>\n",
              "      <th>4</th>\n",
              "      <td>25</td>\n",
              "      <td>1.229602</td>\n",
              "      <td>0</td>\n",
              "      <td>10</td>\n",
              "      <td>0.100000</td>\n",
              "      <td>0.084940</td>\n",
              "      <td>False</td>\n",
              "    </tr>\n",
              "  </tbody>\n",
              "</table>\n",
              "</div>\n",
              "      <button class=\"colab-df-convert\" onclick=\"convertToInteractive('df-44a2a1ea-bf43-4345-a090-ac2e235a741c')\"\n",
              "              title=\"Convert this dataframe to an interactive table.\"\n",
              "              style=\"display:none;\">\n",
              "        \n",
              "  <svg xmlns=\"http://www.w3.org/2000/svg\" height=\"24px\"viewBox=\"0 0 24 24\"\n",
              "       width=\"24px\">\n",
              "    <path d=\"M0 0h24v24H0V0z\" fill=\"none\"/>\n",
              "    <path d=\"M18.56 5.44l.94 2.06.94-2.06 2.06-.94-2.06-.94-.94-2.06-.94 2.06-2.06.94zm-11 1L8.5 8.5l.94-2.06 2.06-.94-2.06-.94L8.5 2.5l-.94 2.06-2.06.94zm10 10l.94 2.06.94-2.06 2.06-.94-2.06-.94-.94-2.06-.94 2.06-2.06.94z\"/><path d=\"M17.41 7.96l-1.37-1.37c-.4-.4-.92-.59-1.43-.59-.52 0-1.04.2-1.43.59L10.3 9.45l-7.72 7.72c-.78.78-.78 2.05 0 2.83L4 21.41c.39.39.9.59 1.41.59.51 0 1.02-.2 1.41-.59l7.78-7.78 2.81-2.81c.8-.78.8-2.07 0-2.86zM5.41 20L4 18.59l7.72-7.72 1.47 1.35L5.41 20z\"/>\n",
              "  </svg>\n",
              "      </button>\n",
              "      \n",
              "  <style>\n",
              "    .colab-df-container {\n",
              "      display:flex;\n",
              "      flex-wrap:wrap;\n",
              "      gap: 12px;\n",
              "    }\n",
              "\n",
              "    .colab-df-convert {\n",
              "      background-color: #E8F0FE;\n",
              "      border: none;\n",
              "      border-radius: 50%;\n",
              "      cursor: pointer;\n",
              "      display: none;\n",
              "      fill: #1967D2;\n",
              "      height: 32px;\n",
              "      padding: 0 0 0 0;\n",
              "      width: 32px;\n",
              "    }\n",
              "\n",
              "    .colab-df-convert:hover {\n",
              "      background-color: #E2EBFA;\n",
              "      box-shadow: 0px 1px 2px rgba(60, 64, 67, 0.3), 0px 1px 3px 1px rgba(60, 64, 67, 0.15);\n",
              "      fill: #174EA6;\n",
              "    }\n",
              "\n",
              "    [theme=dark] .colab-df-convert {\n",
              "      background-color: #3B4455;\n",
              "      fill: #D2E3FC;\n",
              "    }\n",
              "\n",
              "    [theme=dark] .colab-df-convert:hover {\n",
              "      background-color: #434B5C;\n",
              "      box-shadow: 0px 1px 3px 1px rgba(0, 0, 0, 0.15);\n",
              "      filter: drop-shadow(0px 1px 2px rgba(0, 0, 0, 0.3));\n",
              "      fill: #FFFFFF;\n",
              "    }\n",
              "  </style>\n",
              "\n",
              "      <script>\n",
              "        const buttonEl =\n",
              "          document.querySelector('#df-44a2a1ea-bf43-4345-a090-ac2e235a741c button.colab-df-convert');\n",
              "        buttonEl.style.display =\n",
              "          google.colab.kernel.accessAllowed ? 'block' : 'none';\n",
              "\n",
              "        async function convertToInteractive(key) {\n",
              "          const element = document.querySelector('#df-44a2a1ea-bf43-4345-a090-ac2e235a741c');\n",
              "          const dataTable =\n",
              "            await google.colab.kernel.invokeFunction('convertToInteractive',\n",
              "                                                     [key], {});\n",
              "          if (!dataTable) return;\n",
              "\n",
              "          const docLinkHtml = 'Like what you see? Visit the ' +\n",
              "            '<a target=\"_blank\" href=https://colab.research.google.com/notebooks/data_table.ipynb>data table notebook</a>'\n",
              "            + ' to learn more about interactive tables.';\n",
              "          element.innerHTML = '';\n",
              "          dataTable['output_type'] = 'display_data';\n",
              "          await google.colab.output.renderOutput(dataTable, element);\n",
              "          const docLink = document.createElement('div');\n",
              "          docLink.innerHTML = docLinkHtml;\n",
              "          element.appendChild(docLink);\n",
              "        }\n",
              "      </script>\n",
              "    </div>\n",
              "  </div>\n",
              "  "
            ]
          },
          "metadata": {},
          "execution_count": 8
        }
      ]
    },
    {
      "cell_type": "markdown",
      "source": [
        "### Evaluation\n",
        "\n",
        "I'm going to set aside proper ranking metrics for now, and use well-known and intuitive metrics that still demonstrate the obvious problems.\n",
        "\n",
        "Correlation between label and prediction is now negative. That's not good."
      ],
      "metadata": {
        "id": "SumWBGzxHDlh"
      }
    },
    {
      "cell_type": "code",
      "source": [
        "predictions_without_position = logistic_without_position.predict(\n",
        "    sm.add_constant(test_with_labels[features_without_position].astype(float), has_constant='add'))\n",
        "\n",
        "test_with_labels[\"pred_without_position\"] = predictions_without_position\n",
        "\n",
        "test_with_labels[[label, \"pred_without_position\"]].corr(method=\"spearman\")"
      ],
      "metadata": {
        "colab": {
          "base_uri": "https://localhost:8080/",
          "height": 168
        },
        "id": "NFrpPXLyATS1",
        "outputId": "c4361b2f-f588-4514-c2d4-6e0fd131a8d5"
      },
      "execution_count": null,
      "outputs": [
        {
          "output_type": "stream",
          "name": "stderr",
          "text": [
            "/usr/local/lib/python3.7/dist-packages/statsmodels/tsa/tsatools.py:142: FutureWarning: In a future version of pandas all arguments of concat except for the argument 'objs' will be keyword-only\n",
            "  x = pd.concat(x[::order], 1)\n"
          ]
        },
        {
          "output_type": "execute_result",
          "data": {
            "text/plain": [
              "                       had_click  pred_without_position\n",
              "had_click               1.000000              -0.245803\n",
              "pred_without_position  -0.245803               1.000000"
            ],
            "text/html": [
              "\n",
              "  <div id=\"df-1267cd2e-7dfa-425d-b79a-290b9303e157\">\n",
              "    <div class=\"colab-df-container\">\n",
              "      <div>\n",
              "<style scoped>\n",
              "    .dataframe tbody tr th:only-of-type {\n",
              "        vertical-align: middle;\n",
              "    }\n",
              "\n",
              "    .dataframe tbody tr th {\n",
              "        vertical-align: top;\n",
              "    }\n",
              "\n",
              "    .dataframe thead th {\n",
              "        text-align: right;\n",
              "    }\n",
              "</style>\n",
              "<table border=\"1\" class=\"dataframe\">\n",
              "  <thead>\n",
              "    <tr style=\"text-align: right;\">\n",
              "      <th></th>\n",
              "      <th>had_click</th>\n",
              "      <th>pred_without_position</th>\n",
              "    </tr>\n",
              "  </thead>\n",
              "  <tbody>\n",
              "    <tr>\n",
              "      <th>had_click</th>\n",
              "      <td>1.000000</td>\n",
              "      <td>-0.245803</td>\n",
              "    </tr>\n",
              "    <tr>\n",
              "      <th>pred_without_position</th>\n",
              "      <td>-0.245803</td>\n",
              "      <td>1.000000</td>\n",
              "    </tr>\n",
              "  </tbody>\n",
              "</table>\n",
              "</div>\n",
              "      <button class=\"colab-df-convert\" onclick=\"convertToInteractive('df-1267cd2e-7dfa-425d-b79a-290b9303e157')\"\n",
              "              title=\"Convert this dataframe to an interactive table.\"\n",
              "              style=\"display:none;\">\n",
              "        \n",
              "  <svg xmlns=\"http://www.w3.org/2000/svg\" height=\"24px\"viewBox=\"0 0 24 24\"\n",
              "       width=\"24px\">\n",
              "    <path d=\"M0 0h24v24H0V0z\" fill=\"none\"/>\n",
              "    <path d=\"M18.56 5.44l.94 2.06.94-2.06 2.06-.94-2.06-.94-.94-2.06-.94 2.06-2.06.94zm-11 1L8.5 8.5l.94-2.06 2.06-.94-2.06-.94L8.5 2.5l-.94 2.06-2.06.94zm10 10l.94 2.06.94-2.06 2.06-.94-2.06-.94-.94-2.06-.94 2.06-2.06.94z\"/><path d=\"M17.41 7.96l-1.37-1.37c-.4-.4-.92-.59-1.43-.59-.52 0-1.04.2-1.43.59L10.3 9.45l-7.72 7.72c-.78.78-.78 2.05 0 2.83L4 21.41c.39.39.9.59 1.41.59.51 0 1.02-.2 1.41-.59l7.78-7.78 2.81-2.81c.8-.78.8-2.07 0-2.86zM5.41 20L4 18.59l7.72-7.72 1.47 1.35L5.41 20z\"/>\n",
              "  </svg>\n",
              "      </button>\n",
              "      \n",
              "  <style>\n",
              "    .colab-df-container {\n",
              "      display:flex;\n",
              "      flex-wrap:wrap;\n",
              "      gap: 12px;\n",
              "    }\n",
              "\n",
              "    .colab-df-convert {\n",
              "      background-color: #E8F0FE;\n",
              "      border: none;\n",
              "      border-radius: 50%;\n",
              "      cursor: pointer;\n",
              "      display: none;\n",
              "      fill: #1967D2;\n",
              "      height: 32px;\n",
              "      padding: 0 0 0 0;\n",
              "      width: 32px;\n",
              "    }\n",
              "\n",
              "    .colab-df-convert:hover {\n",
              "      background-color: #E2EBFA;\n",
              "      box-shadow: 0px 1px 2px rgba(60, 64, 67, 0.3), 0px 1px 3px 1px rgba(60, 64, 67, 0.15);\n",
              "      fill: #174EA6;\n",
              "    }\n",
              "\n",
              "    [theme=dark] .colab-df-convert {\n",
              "      background-color: #3B4455;\n",
              "      fill: #D2E3FC;\n",
              "    }\n",
              "\n",
              "    [theme=dark] .colab-df-convert:hover {\n",
              "      background-color: #434B5C;\n",
              "      box-shadow: 0px 1px 3px 1px rgba(0, 0, 0, 0.15);\n",
              "      filter: drop-shadow(0px 1px 2px rgba(0, 0, 0, 0.3));\n",
              "      fill: #FFFFFF;\n",
              "    }\n",
              "  </style>\n",
              "\n",
              "      <script>\n",
              "        const buttonEl =\n",
              "          document.querySelector('#df-1267cd2e-7dfa-425d-b79a-290b9303e157 button.colab-df-convert');\n",
              "        buttonEl.style.display =\n",
              "          google.colab.kernel.accessAllowed ? 'block' : 'none';\n",
              "\n",
              "        async function convertToInteractive(key) {\n",
              "          const element = document.querySelector('#df-1267cd2e-7dfa-425d-b79a-290b9303e157');\n",
              "          const dataTable =\n",
              "            await google.colab.kernel.invokeFunction('convertToInteractive',\n",
              "                                                     [key], {});\n",
              "          if (!dataTable) return;\n",
              "\n",
              "          const docLinkHtml = 'Like what you see? Visit the ' +\n",
              "            '<a target=\"_blank\" href=https://colab.research.google.com/notebooks/data_table.ipynb>data table notebook</a>'\n",
              "            + ' to learn more about interactive tables.';\n",
              "          element.innerHTML = '';\n",
              "          dataTable['output_type'] = 'display_data';\n",
              "          await google.colab.output.renderOutput(dataTable, element);\n",
              "          const docLink = document.createElement('div');\n",
              "          docLink.innerHTML = docLinkHtml;\n",
              "          element.appendChild(docLink);\n",
              "        }\n",
              "      </script>\n",
              "    </div>\n",
              "  </div>\n",
              "  "
            ]
          },
          "metadata": {},
          "execution_count": 9
        }
      ]
    },
    {
      "cell_type": "markdown",
      "source": [
        "We can see this in the calibration plot, where predictions are very miscalibrated."
      ],
      "metadata": {
        "id": "pajyBVRKHIzP"
      }
    },
    {
      "cell_type": "code",
      "source": [
        "def plot_calibration_curve(labels, predictions, n_bins=10):\n",
        "  if len(labels) != len(predictions):\n",
        "    raise ValueError(\"Need matching lengths between labels and predictions\")\n",
        "\n",
        "  fraction_of_positives, mean_predicted_value = sklearn.calibration.calibration_curve(\n",
        "      labels, predictions, n_bins=n_bins\n",
        "  )\n",
        "\n",
        "  fig_index = \"calibration\"\n",
        "\n",
        "  fig = plt.figure(fig_index, figsize=(10, 10))\n",
        "  ax1 = plt.subplot2grid((3, 1), (0, 0), rowspan=2)\n",
        "  ax2 = plt.subplot2grid((3, 1), (2, 0))\n",
        "\n",
        "  ax1.plot([0, 1], [0, 1], \"k:\", label=\"Perfect calibration\")\n",
        "\n",
        "  ax1.plot(mean_predicted_value, fraction_of_positives, \"s-\", label=\"Average labels\")\n",
        "\n",
        "  ax2.hist(predictions, range=(0, 1), bins=n_bins, label=\"predictions\", histtype=\"step\", lw=2)\n",
        "\n",
        "  ax1.set_ylabel(\"Fraction of positives\")\n",
        "  ax1.set_ylim([-0.05, 1.05])\n",
        "  ax1.legend(loc=\"lower right\")\n",
        "  ax1.set_title(\"Calibration plot\")\n",
        "\n",
        "  ax1.set_xlabel(\"Mean predicted value\")\n",
        "  ax2.set_ylabel(\"Count\")\n",
        "  ax2.legend(\"uppder right\", ncol=2)\n",
        "\n",
        "  plt.tight_layout()\n",
        "  plt.show()\n",
        "\n",
        "  return fig\n",
        "  \n",
        "plot_calibration_curve(test_with_labels[label], predictions_without_position)\n",
        "\n",
        "None"
      ],
      "metadata": {
        "colab": {
          "base_uri": "https://localhost:8080/",
          "height": 729
        },
        "id": "IUIowoUzJd0p",
        "outputId": "e48e8348-bd06-4213-e76d-a4f7696c2f83"
      },
      "execution_count": null,
      "outputs": [
        {
          "output_type": "display_data",
          "data": {
            "text/plain": [
              "<Figure size 720x720 with 2 Axes>"
            ],
            "image/png": "[encoded data removed]"
          },
          "metadata": {
            "needs_background": "light"
          }
        }
      ]
    },
    {
      "cell_type": "markdown",
      "source": [
        "If we plot actuals and predictions by position, we can see how clicks diminish with position, just as before, but that predictions actually increase with position. This happens for an obvious reason: the model believes that higher `num_reviews` leads to more clicks, when now `num_reviews` by leads to a lower rank, and, through position bias, lower clicks. `num_reviews` was used by the model as a proxy for the position effect."
      ],
      "metadata": {
        "id": "QnL51EqDHRrv"
      }
    },
    {
      "cell_type": "code",
      "source": [
        "test_with_labels.groupby('position')[[label, \"pred_without_position\"]].mean().plot()\n",
        "\n",
        "None"
      ],
      "metadata": {
        "colab": {
          "base_uri": "https://localhost:8080/",
          "height": 279
        },
        "id": "aBWggU1_4Kiz",
        "outputId": "89eb55eb-6b44-4fdc-89fb-08841cf49a59"
      },
      "execution_count": null,
      "outputs": [
        {
          "output_type": "display_data",
          "data": {
            "text/plain": [
              "<Figure size 432x288 with 1 Axes>"
            ],
            "image/png": "[encoded data removed]"
          },
          "metadata": {
            "needs_background": "light"
          }
        }
      ]
    },
    {
      "cell_type": "markdown",
      "source": [
        "## Model with position\n",
        "\n",
        "Now we use position as a feature in our model. Since the behavior model follows a logistic specification, the logistic model is able to identify nearly the exact coefficients. It learns that `inverse_position` matters, `avg_rating` matters somewhat, and `num_reviews` does not matter at all."
      ],
      "metadata": {
        "id": "fjeD3uC6IHC6"
      }
    },
    {
      "cell_type": "code",
      "source": [
        "logistic_with_position = sm.Logit(\n",
        "    with_labels[label],\n",
        "    sm.add_constant(with_labels[features_with_position].astype(float),\n",
        "                    has_constant='add')\n",
        "    ).fit()\n",
        "\n",
        "logistic_with_position.summary()"
      ],
      "metadata": {
        "colab": {
          "base_uri": "https://localhost:8080/",
          "height": 404
        },
        "id": "CDIINSBA-dEJ",
        "outputId": "a95d3d2d-c68a-4e66-b360-dd22d7412bfc"
      },
      "execution_count": null,
      "outputs": [
        {
          "output_type": "stream",
          "name": "stderr",
          "text": [
            "/usr/local/lib/python3.7/dist-packages/statsmodels/tsa/tsatools.py:142: FutureWarning: In a future version of pandas all arguments of concat except for the argument 'objs' will be keyword-only\n",
            "  x = pd.concat(x[::order], 1)\n"
          ]
        },
        {
          "output_type": "stream",
          "name": "stdout",
          "text": [
            "Optimization terminated successfully.\n",
            "         Current function value: 0.328596\n",
            "         Iterations 6\n"
          ]
        },
        {
          "output_type": "execute_result",
          "data": {
            "text/plain": [
              "<class 'statsmodels.iolib.summary.Summary'>\n",
              "\"\"\"\n",
              "                           Logit Regression Results                           \n",
              "==============================================================================\n",
              "Dep. Variable:              had_click   No. Observations:               300000\n",
              "Model:                          Logit   Df Residuals:                   299996\n",
              "Method:                           MLE   Df Model:                            3\n",
              "Date:                Wed, 09 Nov 2022   Pseudo R-squ.:                  0.1826\n",
              "Time:                        19:39:16   Log-Likelihood:                -98579.\n",
              "converged:                       True   LL-Null:                   -1.2060e+05\n",
              "Covariance Type:            nonrobust   LLR p-value:                     0.000\n",
              "====================================================================================\n",
              "                       coef    std err          z      P>|z|      [0.025      0.975]\n",
              "------------------------------------------------------------------------------------\n",
              "const               -2.9984      0.023   -129.665      0.000      -3.044      -2.953\n",
              "inverse_position     5.0243      0.041    123.682      0.000       4.945       5.104\n",
              "avg_rating           0.1022      0.006     17.027      0.000       0.090       0.114\n",
              "num_reviews         -0.0003      0.000     -1.063      0.288      -0.001       0.000\n",
              "====================================================================================\n",
              "\"\"\""
            ],
            "text/html": [
              "<table class=\"simpletable\">\n",
              "<caption>Logit Regression Results</caption>\n",
              "<tr>\n",
              "  <th>Dep. Variable:</th>       <td>had_click</td>    <th>  No. Observations:  </th>   <td>300000</td>   \n",
              "</tr>\n",
              "<tr>\n",
              "  <th>Model:</th>                 <td>Logit</td>      <th>  Df Residuals:      </th>   <td>299996</td>   \n",
              "</tr>\n",
              "<tr>\n",
              "  <th>Method:</th>                 <td>MLE</td>       <th>  Df Model:          </th>   <td>     3</td>   \n",
              "</tr>\n",
              "<tr>\n",
              "  <th>Date:</th>            <td>Wed, 09 Nov 2022</td> <th>  Pseudo R-squ.:     </th>   <td>0.1826</td>   \n",
              "</tr>\n",
              "<tr>\n",
              "  <th>Time:</th>                <td>19:39:16</td>     <th>  Log-Likelihood:    </th>  <td> -98579.</td>  \n",
              "</tr>\n",
              "<tr>\n",
              "  <th>converged:</th>             <td>True</td>       <th>  LL-Null:           </th> <td>-1.2060e+05</td>\n",
              "</tr>\n",
              "<tr>\n",
              "  <th>Covariance Type:</th>     <td>nonrobust</td>    <th>  LLR p-value:       </th>   <td> 0.000</td>   \n",
              "</tr>\n",
              "</table>\n",
              "<table class=\"simpletable\">\n",
              "<tr>\n",
              "          <td></td>            <th>coef</th>     <th>std err</th>      <th>z</th>      <th>P>|z|</th>  <th>[0.025</th>    <th>0.975]</th>  \n",
              "</tr>\n",
              "<tr>\n",
              "  <th>const</th>            <td>   -2.9984</td> <td>    0.023</td> <td> -129.665</td> <td> 0.000</td> <td>   -3.044</td> <td>   -2.953</td>\n",
              "</tr>\n",
              "<tr>\n",
              "  <th>inverse_position</th> <td>    5.0243</td> <td>    0.041</td> <td>  123.682</td> <td> 0.000</td> <td>    4.945</td> <td>    5.104</td>\n",
              "</tr>\n",
              "<tr>\n",
              "  <th>avg_rating</th>       <td>    0.1022</td> <td>    0.006</td> <td>   17.027</td> <td> 0.000</td> <td>    0.090</td> <td>    0.114</td>\n",
              "</tr>\n",
              "<tr>\n",
              "  <th>num_reviews</th>      <td>   -0.0003</td> <td>    0.000</td> <td>   -1.063</td> <td> 0.288</td> <td>   -0.001</td> <td>    0.000</td>\n",
              "</tr>\n",
              "</table>"
            ]
          },
          "metadata": {},
          "execution_count": 12
        }
      ]
    },
    {
      "cell_type": "markdown",
      "source": [
        "### Evaluation on the test sample\n",
        "\n",
        "Even with the ranking algorithm reversed, this model does perfectly fine. Its scores have a strong positive correlation with the label, it is perfectly calibrated, and it is accurate for every position."
      ],
      "metadata": {
        "id": "O6sNIttlIZPg"
      }
    },
    {
      "cell_type": "code",
      "source": [
        "predictions_with_position = logistic_with_position.predict(\n",
        "    sm.add_constant(test_with_labels[features_with_position].astype(float), has_constant='add'))\n",
        "\n",
        "test_with_labels[\"pred_with_position\"] = predictions_with_position\n",
        "\n",
        "test_with_labels[[label, \"pred_with_position\"]].corr(method=\"spearman\")"
      ],
      "metadata": {
        "colab": {
          "base_uri": "https://localhost:8080/",
          "height": 168
        },
        "id": "99brQABK-rsD",
        "outputId": "c4725ab6-e71b-4b5f-d4fd-2af178f6bbe1"
      },
      "execution_count": null,
      "outputs": [
        {
          "output_type": "stream",
          "name": "stderr",
          "text": [
            "/usr/local/lib/python3.7/dist-packages/statsmodels/tsa/tsatools.py:142: FutureWarning: In a future version of pandas all arguments of concat except for the argument 'objs' will be keyword-only\n",
            "  x = pd.concat(x[::order], 1)\n"
          ]
        },
        {
          "output_type": "execute_result",
          "data": {
            "text/plain": [
              "                    had_click  pred_with_position\n",
              "had_click            1.000000            0.265055\n",
              "pred_with_position   0.265055            1.000000"
            ],
            "text/html": [
              "\n",
              "  <div id=\"df-20e5cccf-a909-48f1-9850-b7597f9f4371\">\n",
              "    <div class=\"colab-df-container\">\n",
              "      <div>\n",
              "<style scoped>\n",
              "    .dataframe tbody tr th:only-of-type {\n",
              "        vertical-align: middle;\n",
              "    }\n",
              "\n",
              "    .dataframe tbody tr th {\n",
              "        vertical-align: top;\n",
              "    }\n",
              "\n",
              "    .dataframe thead th {\n",
              "        text-align: right;\n",
              "    }\n",
              "</style>\n",
              "<table border=\"1\" class=\"dataframe\">\n",
              "  <thead>\n",
              "    <tr style=\"text-align: right;\">\n",
              "      <th></th>\n",
              "      <th>had_click</th>\n",
              "      <th>pred_with_position</th>\n",
              "    </tr>\n",
              "  </thead>\n",
              "  <tbody>\n",
              "    <tr>\n",
              "      <th>had_click</th>\n",
              "      <td>1.000000</td>\n",
              "      <td>0.265055</td>\n",
              "    </tr>\n",
              "    <tr>\n",
              "      <th>pred_with_position</th>\n",
              "      <td>0.265055</td>\n",
              "      <td>1.000000</td>\n",
              "    </tr>\n",
              "  </tbody>\n",
              "</table>\n",
              "</div>\n",
              "      <button class=\"colab-df-convert\" onclick=\"convertToInteractive('df-20e5cccf-a909-48f1-9850-b7597f9f4371')\"\n",
              "              title=\"Convert this dataframe to an interactive table.\"\n",
              "              style=\"display:none;\">\n",
              "        \n",
              "  <svg xmlns=\"http://www.w3.org/2000/svg\" height=\"24px\"viewBox=\"0 0 24 24\"\n",
              "       width=\"24px\">\n",
              "    <path d=\"M0 0h24v24H0V0z\" fill=\"none\"/>\n",
              "    <path d=\"M18.56 5.44l.94 2.06.94-2.06 2.06-.94-2.06-.94-.94-2.06-.94 2.06-2.06.94zm-11 1L8.5 8.5l.94-2.06 2.06-.94-2.06-.94L8.5 2.5l-.94 2.06-2.06.94zm10 10l.94 2.06.94-2.06 2.06-.94-2.06-.94-.94-2.06-.94 2.06-2.06.94z\"/><path d=\"M17.41 7.96l-1.37-1.37c-.4-.4-.92-.59-1.43-.59-.52 0-1.04.2-1.43.59L10.3 9.45l-7.72 7.72c-.78.78-.78 2.05 0 2.83L4 21.41c.39.39.9.59 1.41.59.51 0 1.02-.2 1.41-.59l7.78-7.78 2.81-2.81c.8-.78.8-2.07 0-2.86zM5.41 20L4 18.59l7.72-7.72 1.47 1.35L5.41 20z\"/>\n",
              "  </svg>\n",
              "      </button>\n",
              "      \n",
              "  <style>\n",
              "    .colab-df-container {\n",
              "      display:flex;\n",
              "      flex-wrap:wrap;\n",
              "      gap: 12px;\n",
              "    }\n",
              "\n",
              "    .colab-df-convert {\n",
              "      background-color: #E8F0FE;\n",
              "      border: none;\n",
              "      border-radius: 50%;\n",
              "      cursor: pointer;\n",
              "      display: none;\n",
              "      fill: #1967D2;\n",
              "      height: 32px;\n",
              "      padding: 0 0 0 0;\n",
              "      width: 32px;\n",
              "    }\n",
              "\n",
              "    .colab-df-convert:hover {\n",
              "      background-color: #E2EBFA;\n",
              "      box-shadow: 0px 1px 2px rgba(60, 64, 67, 0.3), 0px 1px 3px 1px rgba(60, 64, 67, 0.15);\n",
              "      fill: #174EA6;\n",
              "    }\n",
              "\n",
              "    [theme=dark] .colab-df-convert {\n",
              "      background-color: #3B4455;\n",
              "      fill: #D2E3FC;\n",
              "    }\n",
              "\n",
              "    [theme=dark] .colab-df-convert:hover {\n",
              "      background-color: #434B5C;\n",
              "      box-shadow: 0px 1px 3px 1px rgba(0, 0, 0, 0.15);\n",
              "      filter: drop-shadow(0px 1px 2px rgba(0, 0, 0, 0.3));\n",
              "      fill: #FFFFFF;\n",
              "    }\n",
              "  </style>\n",
              "\n",
              "      <script>\n",
              "        const buttonEl =\n",
              "          document.querySelector('#df-20e5cccf-a909-48f1-9850-b7597f9f4371 button.colab-df-convert');\n",
              "        buttonEl.style.display =\n",
              "          google.colab.kernel.accessAllowed ? 'block' : 'none';\n",
              "\n",
              "        async function convertToInteractive(key) {\n",
              "          const element = document.querySelector('#df-20e5cccf-a909-48f1-9850-b7597f9f4371');\n",
              "          const dataTable =\n",
              "            await google.colab.kernel.invokeFunction('convertToInteractive',\n",
              "                                                     [key], {});\n",
              "          if (!dataTable) return;\n",
              "\n",
              "          const docLinkHtml = 'Like what you see? Visit the ' +\n",
              "            '<a target=\"_blank\" href=https://colab.research.google.com/notebooks/data_table.ipynb>data table notebook</a>'\n",
              "            + ' to learn more about interactive tables.';\n",
              "          element.innerHTML = '';\n",
              "          dataTable['output_type'] = 'display_data';\n",
              "          await google.colab.output.renderOutput(dataTable, element);\n",
              "          const docLink = document.createElement('div');\n",
              "          docLink.innerHTML = docLinkHtml;\n",
              "          element.appendChild(docLink);\n",
              "        }\n",
              "      </script>\n",
              "    </div>\n",
              "  </div>\n",
              "  "
            ]
          },
          "metadata": {},
          "execution_count": 13
        }
      ]
    },
    {
      "cell_type": "code",
      "source": [
        "plot_calibration_curve(test_with_labels[label], predictions_with_position)\n",
        "\n",
        "None"
      ],
      "metadata": {
        "colab": {
          "base_uri": "https://localhost:8080/",
          "height": 729
        },
        "id": "jHS2wYrzBiW3",
        "outputId": "bdf96347-a9ce-4a0a-f871-ab80f39a56f2"
      },
      "execution_count": null,
      "outputs": [
        {
          "output_type": "display_data",
          "data": {
            "text/plain": [
              "<Figure size 720x720 with 2 Axes>"
            ],
            "image/png": "[encoded data removed]"
          },
          "metadata": {
            "needs_background": "light"
          }
        }
      ]
    },
    {
      "cell_type": "code",
      "source": [
        "test_with_labels.groupby('position')[[label, \"pred_with_position\"]].mean().plot()\n",
        "\n",
        "None"
      ],
      "metadata": {
        "colab": {
          "base_uri": "https://localhost:8080/",
          "height": 279
        },
        "id": "EwDxnPVZ3RFu",
        "outputId": "b00b486b-11a6-4833-8e73-75a588f21e8b"
      },
      "execution_count": null,
      "outputs": [
        {
          "output_type": "display_data",
          "data": {
            "text/plain": [
              "<Figure size 432x288 with 1 Axes>"
            ],
            "image/png": "[encoded data removed]"
          },
          "metadata": {
            "needs_background": "light"
          }
        }
      ]
    },
    {
      "cell_type": "markdown",
      "source": [
        "# A multiplicative behavior model\n",
        "\n",
        "The logistic model did fine with user behavior that matches its specification. Let's now create a very different specification, where click will be defined by position bias times a logistic probability.\n",
        "\n",
        "Position bias is scaled such that the first position has a bias of 1, and the logistic probability is the probability of click at that first position."
      ],
      "metadata": {
        "id": "HbGwRjemJ6IC"
      }
    },
    {
      "cell_type": "code",
      "source": [
        "def apply_multiplicative_probability(searches, position_weights, coefficients, features,\n",
        "                                     inplace=False):\n",
        "  if len(features) != len(coefficients) - 1:\n",
        "    raise ValueError(\"Expecting one more coefficient than features\")\n",
        "\n",
        "  if inplace:\n",
        "    output = searches\n",
        "  else:\n",
        "    output = searches.copy()\n",
        "\n",
        "  logit = 0\n",
        "  for index, feature in enumerate(features):\n",
        "    logit += searches[features[index]] * coefficients[index + 1]\n",
        "  logit += coefficients[0]\n",
        "\n",
        "  output[\"base_probability\"] = sigmoid(logit)\n",
        "  output[\"probability\"] = output[\"base_probability\"] * position_weights\n",
        "  \n",
        "  return output\n",
        "\n",
        "# For position bias, I will still use inverse position. This is a realistic curve,\n",
        "# and gives a bias of 1.0 at the first position.\n",
        "position_bias = with_inverse[\"inverse_position\"]\n",
        "\n",
        "# Slightly different coefficients to give this a reasonable scale and range\n",
        "coefficients_for_mult_example = [-2, 0.5]\n",
        "\n",
        "with_mult_probability = apply_multiplicative_probability(\n",
        "    with_inverse, position_bias, coefficients_for_mult_example, [\"avg_rating\"])\n",
        "\n",
        "with_mult_labels = apply_labels(with_mult_probability, label, inplace=True)\n",
        "\n",
        "with_mult_labels.sort_values(by=[\"search_id\", \"position\"]).head(10)"
      ],
      "metadata": {
        "colab": {
          "base_uri": "https://localhost:8080/",
          "height": 363
        },
        "id": "RRQ3fLceKKJm",
        "outputId": "15c20a58-450e-4421-8bb9-43e0f5d3e68a"
      },
      "execution_count": null,
      "outputs": [
        {
          "output_type": "execute_result",
          "data": {
            "text/plain": [
              "    num_reviews  avg_rating  search_id  position  inverse_position  \\\n",
              "6            99    2.113985          0         1          1.000000   \n",
              "17           94    3.274957          0         2          0.500000   \n",
              "13           93    2.794540          0         3          0.333333   \n",
              "7            91    2.328554          0         4          0.250000   \n",
              "8            85    3.854156          0         5          0.200000   \n",
              "27           82    3.960140          0         6          0.166667   \n",
              "3            77    4.804854          0         7          0.142857   \n",
              "14           76    3.236912          0         8          0.125000   \n",
              "22           75    4.660930          0         9          0.111111   \n",
              "20           68    0.927447          0        10          0.100000   \n",
              "\n",
              "    base_probability  probability  had_click  \n",
              "6           0.280293     0.280293      False  \n",
              "17          0.410349     0.205175      False  \n",
              "13          0.353719     0.117906      False  \n",
              "7           0.302436     0.075609      False  \n",
              "8           0.481778     0.096356       True  \n",
              "27          0.495018     0.082503      False  \n",
              "3           0.599271     0.085610       True  \n",
              "14          0.405755     0.050719      False  \n",
              "22          0.581873     0.064653      False  \n",
              "20          0.177077     0.017708      False  "
            ],
            "text/html": [
              "\n",
              "  <div id=\"df-2e7f56e5-c553-427f-b5ad-7730a6c0bee6\">\n",
              "    <div class=\"colab-df-container\">\n",
              "      <div>\n",
              "<style scoped>\n",
              "    .dataframe tbody tr th:only-of-type {\n",
              "        vertical-align: middle;\n",
              "    }\n",
              "\n",
              "    .dataframe tbody tr th {\n",
              "        vertical-align: top;\n",
              "    }\n",
              "\n",
              "    .dataframe thead th {\n",
              "        text-align: right;\n",
              "    }\n",
              "</style>\n",
              "<table border=\"1\" class=\"dataframe\">\n",
              "  <thead>\n",
              "    <tr style=\"text-align: right;\">\n",
              "      <th></th>\n",
              "      <th>num_reviews</th>\n",
              "      <th>avg_rating</th>\n",
              "      <th>search_id</th>\n",
              "      <th>position</th>\n",
              "      <th>inverse_position</th>\n",
              "      <th>base_probability</th>\n",
              "      <th>probability</th>\n",
              "      <th>had_click</th>\n",
              "    </tr>\n",
              "  </thead>\n",
              "  <tbody>\n",
              "    <tr>\n",
              "      <th>6</th>\n",
              "      <td>99</td>\n",
              "      <td>2.113985</td>\n",
              "      <td>0</td>\n",
              "      <td>1</td>\n",
              "      <td>1.000000</td>\n",
              "      <td>0.280293</td>\n",
              "      <td>0.280293</td>\n",
              "      <td>False</td>\n",
              "    </tr>\n",
              "    <tr>\n",
              "      <th>17</th>\n",
              "      <td>94</td>\n",
              "      <td>3.274957</td>\n",
              "      <td>0</td>\n",
              "      <td>2</td>\n",
              "      <td>0.500000</td>\n",
              "      <td>0.410349</td>\n",
              "      <td>0.205175</td>\n",
              "      <td>False</td>\n",
              "    </tr>\n",
              "    <tr>\n",
              "      <th>13</th>\n",
              "      <td>93</td>\n",
              "      <td>2.794540</td>\n",
              "      <td>0</td>\n",
              "      <td>3</td>\n",
              "      <td>0.333333</td>\n",
              "      <td>0.353719</td>\n",
              "      <td>0.117906</td>\n",
              "      <td>False</td>\n",
              "    </tr>\n",
              "    <tr>\n",
              "      <th>7</th>\n",
              "      <td>91</td>\n",
              "      <td>2.328554</td>\n",
              "      <td>0</td>\n",
              "      <td>4</td>\n",
              "      <td>0.250000</td>\n",
              "      <td>0.302436</td>\n",
              "      <td>0.075609</td>\n",
              "      <td>False</td>\n",
              "    </tr>\n",
              "    <tr>\n",
              "      <th>8</th>\n",
              "      <td>85</td>\n",
              "      <td>3.854156</td>\n",
              "      <td>0</td>\n",
              "      <td>5</td>\n",
              "      <td>0.200000</td>\n",
              "      <td>0.481778</td>\n",
              "      <td>0.096356</td>\n",
              "      <td>True</td>\n",
              "    </tr>\n",
              "    <tr>\n",
              "      <th>27</th>\n",
              "      <td>82</td>\n",
              "      <td>3.960140</td>\n",
              "      <td>0</td>\n",
              "      <td>6</td>\n",
              "      <td>0.166667</td>\n",
              "      <td>0.495018</td>\n",
              "      <td>0.082503</td>\n",
              "      <td>False</td>\n",
              "    </tr>\n",
              "    <tr>\n",
              "      <th>3</th>\n",
              "      <td>77</td>\n",
              "      <td>4.804854</td>\n",
              "      <td>0</td>\n",
              "      <td>7</td>\n",
              "      <td>0.142857</td>\n",
              "      <td>0.599271</td>\n",
              "      <td>0.085610</td>\n",
              "      <td>True</td>\n",
              "    </tr>\n",
              "    <tr>\n",
              "      <th>14</th>\n",
              "      <td>76</td>\n",
              "      <td>3.236912</td>\n",
              "      <td>0</td>\n",
              "      <td>8</td>\n",
              "      <td>0.125000</td>\n",
              "      <td>0.405755</td>\n",
              "      <td>0.050719</td>\n",
              "      <td>False</td>\n",
              "    </tr>\n",
              "    <tr>\n",
              "      <th>22</th>\n",
              "      <td>75</td>\n",
              "      <td>4.660930</td>\n",
              "      <td>0</td>\n",
              "      <td>9</td>\n",
              "      <td>0.111111</td>\n",
              "      <td>0.581873</td>\n",
              "      <td>0.064653</td>\n",
              "      <td>False</td>\n",
              "    </tr>\n",
              "    <tr>\n",
              "      <th>20</th>\n",
              "      <td>68</td>\n",
              "      <td>0.927447</td>\n",
              "      <td>0</td>\n",
              "      <td>10</td>\n",
              "      <td>0.100000</td>\n",
              "      <td>0.177077</td>\n",
              "      <td>0.017708</td>\n",
              "      <td>False</td>\n",
              "    </tr>\n",
              "  </tbody>\n",
              "</table>\n",
              "</div>\n",
              "      <button class=\"colab-df-convert\" onclick=\"convertToInteractive('df-2e7f56e5-c553-427f-b5ad-7730a6c0bee6')\"\n",
              "              title=\"Convert this dataframe to an interactive table.\"\n",
              "              style=\"display:none;\">\n",
              "        \n",
              "  <svg xmlns=\"http://www.w3.org/2000/svg\" height=\"24px\"viewBox=\"0 0 24 24\"\n",
              "       width=\"24px\">\n",
              "    <path d=\"M0 0h24v24H0V0z\" fill=\"none\"/>\n",
              "    <path d=\"M18.56 5.44l.94 2.06.94-2.06 2.06-.94-2.06-.94-.94-2.06-.94 2.06-2.06.94zm-11 1L8.5 8.5l.94-2.06 2.06-.94-2.06-.94L8.5 2.5l-.94 2.06-2.06.94zm10 10l.94 2.06.94-2.06 2.06-.94-2.06-.94-.94-2.06-.94 2.06-2.06.94z\"/><path d=\"M17.41 7.96l-1.37-1.37c-.4-.4-.92-.59-1.43-.59-.52 0-1.04.2-1.43.59L10.3 9.45l-7.72 7.72c-.78.78-.78 2.05 0 2.83L4 21.41c.39.39.9.59 1.41.59.51 0 1.02-.2 1.41-.59l7.78-7.78 2.81-2.81c.8-.78.8-2.07 0-2.86zM5.41 20L4 18.59l7.72-7.72 1.47 1.35L5.41 20z\"/>\n",
              "  </svg>\n",
              "      </button>\n",
              "      \n",
              "  <style>\n",
              "    .colab-df-container {\n",
              "      display:flex;\n",
              "      flex-wrap:wrap;\n",
              "      gap: 12px;\n",
              "    }\n",
              "\n",
              "    .colab-df-convert {\n",
              "      background-color: #E8F0FE;\n",
              "      border: none;\n",
              "      border-radius: 50%;\n",
              "      cursor: pointer;\n",
              "      display: none;\n",
              "      fill: #1967D2;\n",
              "      height: 32px;\n",
              "      padding: 0 0 0 0;\n",
              "      width: 32px;\n",
              "    }\n",
              "\n",
              "    .colab-df-convert:hover {\n",
              "      background-color: #E2EBFA;\n",
              "      box-shadow: 0px 1px 2px rgba(60, 64, 67, 0.3), 0px 1px 3px 1px rgba(60, 64, 67, 0.15);\n",
              "      fill: #174EA6;\n",
              "    }\n",
              "\n",
              "    [theme=dark] .colab-df-convert {\n",
              "      background-color: #3B4455;\n",
              "      fill: #D2E3FC;\n",
              "    }\n",
              "\n",
              "    [theme=dark] .colab-df-convert:hover {\n",
              "      background-color: #434B5C;\n",
              "      box-shadow: 0px 1px 3px 1px rgba(0, 0, 0, 0.15);\n",
              "      filter: drop-shadow(0px 1px 2px rgba(0, 0, 0, 0.3));\n",
              "      fill: #FFFFFF;\n",
              "    }\n",
              "  </style>\n",
              "\n",
              "      <script>\n",
              "        const buttonEl =\n",
              "          document.querySelector('#df-2e7f56e5-c553-427f-b5ad-7730a6c0bee6 button.colab-df-convert');\n",
              "        buttonEl.style.display =\n",
              "          google.colab.kernel.accessAllowed ? 'block' : 'none';\n",
              "\n",
              "        async function convertToInteractive(key) {\n",
              "          const element = document.querySelector('#df-2e7f56e5-c553-427f-b5ad-7730a6c0bee6');\n",
              "          const dataTable =\n",
              "            await google.colab.kernel.invokeFunction('convertToInteractive',\n",
              "                                                     [key], {});\n",
              "          if (!dataTable) return;\n",
              "\n",
              "          const docLinkHtml = 'Like what you see? Visit the ' +\n",
              "            '<a target=\"_blank\" href=https://colab.research.google.com/notebooks/data_table.ipynb>data table notebook</a>'\n",
              "            + ' to learn more about interactive tables.';\n",
              "          element.innerHTML = '';\n",
              "          dataTable['output_type'] = 'display_data';\n",
              "          await google.colab.output.renderOutput(dataTable, element);\n",
              "          const docLink = document.createElement('div');\n",
              "          docLink.innerHTML = docLinkHtml;\n",
              "          element.appendChild(docLink);\n",
              "        }\n",
              "      </script>\n",
              "    </div>\n",
              "  </div>\n",
              "  "
            ]
          },
          "metadata": {},
          "execution_count": 16
        }
      ]
    },
    {
      "cell_type": "markdown",
      "source": [
        "## Logistic model with position\n",
        "\n",
        "Now the model with position still generates coefficients, and still knows that `inverse_position` is the dominant factor, but it can't fit the behavior model due to its functional form. It now finds a large (and signficant) positive coefficient for `num_reviews`."
      ],
      "metadata": {
        "id": "WbRbyny3Kkxv"
      }
    },
    {
      "cell_type": "code",
      "source": [
        "logistic_with_position_mult = sm.Logit(\n",
        "    with_mult_labels[label],\n",
        "    sm.add_constant(with_mult_labels[features_with_position].astype(float),\n",
        "                    has_constant='add')\n",
        "    ).fit()\n",
        "\n",
        "logistic_with_position_mult.summary()\n"
      ],
      "metadata": {
        "colab": {
          "base_uri": "https://localhost:8080/",
          "height": 404
        },
        "id": "pVcL9xN0Q8KP",
        "outputId": "267a9953-35b3-4f54-f840-66c05dbd0985"
      },
      "execution_count": null,
      "outputs": [
        {
          "output_type": "stream",
          "name": "stderr",
          "text": [
            "/usr/local/lib/python3.7/dist-packages/statsmodels/tsa/tsatools.py:142: FutureWarning: In a future version of pandas all arguments of concat except for the argument 'objs' will be keyword-only\n",
            "  x = pd.concat(x[::order], 1)\n"
          ]
        },
        {
          "output_type": "stream",
          "name": "stdout",
          "text": [
            "Optimization terminated successfully.\n",
            "         Current function value: 0.168980\n",
            "         Iterations 8\n"
          ]
        },
        {
          "output_type": "execute_result",
          "data": {
            "text/plain": [
              "<class 'statsmodels.iolib.summary.Summary'>\n",
              "\"\"\"\n",
              "                           Logit Regression Results                           \n",
              "==============================================================================\n",
              "Dep. Variable:              had_click   No. Observations:               300000\n",
              "Model:                          Logit   Df Residuals:                   299996\n",
              "Method:                           MLE   Df Model:                            3\n",
              "Date:                Wed, 09 Nov 2022   Pseudo R-squ.:                  0.1687\n",
              "Time:                        19:39:23   Log-Likelihood:                -50694.\n",
              "converged:                       True   LL-Null:                       -60983.\n",
              "Covariance Type:            nonrobust   LLR p-value:                     0.000\n",
              "====================================================================================\n",
              "                       coef    std err          z      P>|z|      [0.025      0.975]\n",
              "------------------------------------------------------------------------------------\n",
              "const               -5.8166      0.041   -140.426      0.000      -5.898      -5.735\n",
              "inverse_position     2.4278      0.035     70.272      0.000       2.360       2.495\n",
              "avg_rating           0.3600      0.009     40.319      0.000       0.343       0.378\n",
              "num_reviews          0.0198      0.000     42.869      0.000       0.019       0.021\n",
              "====================================================================================\n",
              "\"\"\""
            ],
            "text/html": [
              "<table class=\"simpletable\">\n",
              "<caption>Logit Regression Results</caption>\n",
              "<tr>\n",
              "  <th>Dep. Variable:</th>       <td>had_click</td>    <th>  No. Observations:  </th>  <td>300000</td> \n",
              "</tr>\n",
              "<tr>\n",
              "  <th>Model:</th>                 <td>Logit</td>      <th>  Df Residuals:      </th>  <td>299996</td> \n",
              "</tr>\n",
              "<tr>\n",
              "  <th>Method:</th>                 <td>MLE</td>       <th>  Df Model:          </th>  <td>     3</td> \n",
              "</tr>\n",
              "<tr>\n",
              "  <th>Date:</th>            <td>Wed, 09 Nov 2022</td> <th>  Pseudo R-squ.:     </th>  <td>0.1687</td> \n",
              "</tr>\n",
              "<tr>\n",
              "  <th>Time:</th>                <td>19:39:23</td>     <th>  Log-Likelihood:    </th> <td> -50694.</td>\n",
              "</tr>\n",
              "<tr>\n",
              "  <th>converged:</th>             <td>True</td>       <th>  LL-Null:           </th> <td> -60983.</td>\n",
              "</tr>\n",
              "<tr>\n",
              "  <th>Covariance Type:</th>     <td>nonrobust</td>    <th>  LLR p-value:       </th>  <td> 0.000</td> \n",
              "</tr>\n",
              "</table>\n",
              "<table class=\"simpletable\">\n",
              "<tr>\n",
              "          <td></td>            <th>coef</th>     <th>std err</th>      <th>z</th>      <th>P>|z|</th>  <th>[0.025</th>    <th>0.975]</th>  \n",
              "</tr>\n",
              "<tr>\n",
              "  <th>const</th>            <td>   -5.8166</td> <td>    0.041</td> <td> -140.426</td> <td> 0.000</td> <td>   -5.898</td> <td>   -5.735</td>\n",
              "</tr>\n",
              "<tr>\n",
              "  <th>inverse_position</th> <td>    2.4278</td> <td>    0.035</td> <td>   70.272</td> <td> 0.000</td> <td>    2.360</td> <td>    2.495</td>\n",
              "</tr>\n",
              "<tr>\n",
              "  <th>avg_rating</th>       <td>    0.3600</td> <td>    0.009</td> <td>   40.319</td> <td> 0.000</td> <td>    0.343</td> <td>    0.378</td>\n",
              "</tr>\n",
              "<tr>\n",
              "  <th>num_reviews</th>      <td>    0.0198</td> <td>    0.000</td> <td>   42.869</td> <td> 0.000</td> <td>    0.019</td> <td>    0.021</td>\n",
              "</tr>\n",
              "</table>"
            ]
          },
          "metadata": {},
          "execution_count": 17
        }
      ]
    },
    {
      "cell_type": "markdown",
      "source": [
        "### Evaluation\n",
        "\n",
        "Now our test sample predictions have weak correlation with the label, because the test sample has the different ranking function, and in particular, `num_reviews` is not positively correlated with rank in the test sample."
      ],
      "metadata": {
        "id": "ZcVw5G-0LEkX"
      }
    },
    {
      "cell_type": "code",
      "source": [
        "test_position_bias = test_with_inverse[\"inverse_position\"]\n",
        "\n",
        "test_with_mult_probability = apply_multiplicative_probability(\n",
        "    test_with_inverse, test_position_bias, coefficients_for_mult_example, [\"avg_rating\"])\n",
        "test_with_mult_labels = apply_labels(test_with_mult_probability, label, inplace=True)\n",
        "\n",
        "predictions_with_position = logistic_with_position_mult.predict(\n",
        "    sm.add_constant(test_with_mult_labels[features_with_position].astype(float),\n",
        "                    has_constant='add'))\n",
        "\n",
        "test_with_mult_labels[\"pred_with_position\"] = predictions_with_position\n",
        "\n",
        "test_with_mult_labels[[label, \"pred_with_position\"]].corr(method=\"spearman\")"
      ],
      "metadata": {
        "colab": {
          "base_uri": "https://localhost:8080/",
          "height": 168
        },
        "id": "RoQYrRhB51m5",
        "outputId": "8d5abef3-751b-4cf5-b296-24ca96e04cf5"
      },
      "execution_count": null,
      "outputs": [
        {
          "output_type": "stream",
          "name": "stderr",
          "text": [
            "/usr/local/lib/python3.7/dist-packages/statsmodels/tsa/tsatools.py:142: FutureWarning: In a future version of pandas all arguments of concat except for the argument 'objs' will be keyword-only\n",
            "  x = pd.concat(x[::order], 1)\n"
          ]
        },
        {
          "output_type": "execute_result",
          "data": {
            "text/plain": [
              "                    had_click  pred_with_position\n",
              "had_click             1.00000             0.06726\n",
              "pred_with_position    0.06726             1.00000"
            ],
            "text/html": [
              "\n",
              "  <div id=\"df-4fe814f1-0448-4fd4-8368-94a38e329b32\">\n",
              "    <div class=\"colab-df-container\">\n",
              "      <div>\n",
              "<style scoped>\n",
              "    .dataframe tbody tr th:only-of-type {\n",
              "        vertical-align: middle;\n",
              "    }\n",
              "\n",
              "    .dataframe tbody tr th {\n",
              "        vertical-align: top;\n",
              "    }\n",
              "\n",
              "    .dataframe thead th {\n",
              "        text-align: right;\n",
              "    }\n",
              "</style>\n",
              "<table border=\"1\" class=\"dataframe\">\n",
              "  <thead>\n",
              "    <tr style=\"text-align: right;\">\n",
              "      <th></th>\n",
              "      <th>had_click</th>\n",
              "      <th>pred_with_position</th>\n",
              "    </tr>\n",
              "  </thead>\n",
              "  <tbody>\n",
              "    <tr>\n",
              "      <th>had_click</th>\n",
              "      <td>1.00000</td>\n",
              "      <td>0.06726</td>\n",
              "    </tr>\n",
              "    <tr>\n",
              "      <th>pred_with_position</th>\n",
              "      <td>0.06726</td>\n",
              "      <td>1.00000</td>\n",
              "    </tr>\n",
              "  </tbody>\n",
              "</table>\n",
              "</div>\n",
              "      <button class=\"colab-df-convert\" onclick=\"convertToInteractive('df-4fe814f1-0448-4fd4-8368-94a38e329b32')\"\n",
              "              title=\"Convert this dataframe to an interactive table.\"\n",
              "              style=\"display:none;\">\n",
              "        \n",
              "  <svg xmlns=\"http://www.w3.org/2000/svg\" height=\"24px\"viewBox=\"0 0 24 24\"\n",
              "       width=\"24px\">\n",
              "    <path d=\"M0 0h24v24H0V0z\" fill=\"none\"/>\n",
              "    <path d=\"M18.56 5.44l.94 2.06.94-2.06 2.06-.94-2.06-.94-.94-2.06-.94 2.06-2.06.94zm-11 1L8.5 8.5l.94-2.06 2.06-.94-2.06-.94L8.5 2.5l-.94 2.06-2.06.94zm10 10l.94 2.06.94-2.06 2.06-.94-2.06-.94-.94-2.06-.94 2.06-2.06.94z\"/><path d=\"M17.41 7.96l-1.37-1.37c-.4-.4-.92-.59-1.43-.59-.52 0-1.04.2-1.43.59L10.3 9.45l-7.72 7.72c-.78.78-.78 2.05 0 2.83L4 21.41c.39.39.9.59 1.41.59.51 0 1.02-.2 1.41-.59l7.78-7.78 2.81-2.81c.8-.78.8-2.07 0-2.86zM5.41 20L4 18.59l7.72-7.72 1.47 1.35L5.41 20z\"/>\n",
              "  </svg>\n",
              "      </button>\n",
              "      \n",
              "  <style>\n",
              "    .colab-df-container {\n",
              "      display:flex;\n",
              "      flex-wrap:wrap;\n",
              "      gap: 12px;\n",
              "    }\n",
              "\n",
              "    .colab-df-convert {\n",
              "      background-color: #E8F0FE;\n",
              "      border: none;\n",
              "      border-radius: 50%;\n",
              "      cursor: pointer;\n",
              "      display: none;\n",
              "      fill: #1967D2;\n",
              "      height: 32px;\n",
              "      padding: 0 0 0 0;\n",
              "      width: 32px;\n",
              "    }\n",
              "\n",
              "    .colab-df-convert:hover {\n",
              "      background-color: #E2EBFA;\n",
              "      box-shadow: 0px 1px 2px rgba(60, 64, 67, 0.3), 0px 1px 3px 1px rgba(60, 64, 67, 0.15);\n",
              "      fill: #174EA6;\n",
              "    }\n",
              "\n",
              "    [theme=dark] .colab-df-convert {\n",
              "      background-color: #3B4455;\n",
              "      fill: #D2E3FC;\n",
              "    }\n",
              "\n",
              "    [theme=dark] .colab-df-convert:hover {\n",
              "      background-color: #434B5C;\n",
              "      box-shadow: 0px 1px 3px 1px rgba(0, 0, 0, 0.15);\n",
              "      filter: drop-shadow(0px 1px 2px rgba(0, 0, 0, 0.3));\n",
              "      fill: #FFFFFF;\n",
              "    }\n",
              "  </style>\n",
              "\n",
              "      <script>\n",
              "        const buttonEl =\n",
              "          document.querySelector('#df-4fe814f1-0448-4fd4-8368-94a38e329b32 button.colab-df-convert');\n",
              "        buttonEl.style.display =\n",
              "          google.colab.kernel.accessAllowed ? 'block' : 'none';\n",
              "\n",
              "        async function convertToInteractive(key) {\n",
              "          const element = document.querySelector('#df-4fe814f1-0448-4fd4-8368-94a38e329b32');\n",
              "          const dataTable =\n",
              "            await google.colab.kernel.invokeFunction('convertToInteractive',\n",
              "                                                     [key], {});\n",
              "          if (!dataTable) return;\n",
              "\n",
              "          const docLinkHtml = 'Like what you see? Visit the ' +\n",
              "            '<a target=\"_blank\" href=https://colab.research.google.com/notebooks/data_table.ipynb>data table notebook</a>'\n",
              "            + ' to learn more about interactive tables.';\n",
              "          element.innerHTML = '';\n",
              "          dataTable['output_type'] = 'display_data';\n",
              "          await google.colab.output.renderOutput(dataTable, element);\n",
              "          const docLink = document.createElement('div');\n",
              "          docLink.innerHTML = docLinkHtml;\n",
              "          element.appendChild(docLink);\n",
              "        }\n",
              "      </script>\n",
              "    </div>\n",
              "  </div>\n",
              "  "
            ]
          },
          "metadata": {},
          "execution_count": 18
        }
      ]
    },
    {
      "cell_type": "markdown",
      "source": [
        "Calibration is awful."
      ],
      "metadata": {
        "id": "9hdmrV57LIq2"
      }
    },
    {
      "cell_type": "code",
      "source": [
        "plot_calibration_curve(test_with_mult_labels[label], test_with_mult_labels[\"pred_with_position\"])\n",
        "\n",
        "None"
      ],
      "metadata": {
        "colab": {
          "base_uri": "https://localhost:8080/",
          "height": 729
        },
        "id": "w3FzX7uS6du2",
        "outputId": "d4b0faf5-7d47-4902-efe7-ce83645bd177"
      },
      "execution_count": null,
      "outputs": [
        {
          "output_type": "display_data",
          "data": {
            "text/plain": [
              "<Figure size 720x720 with 2 Axes>"
            ],
            "image/png": "[encoded data removed]"
          },
          "metadata": {
            "needs_background": "light"
          }
        }
      ]
    },
    {
      "cell_type": "markdown",
      "source": [
        "Now predictions decrease over the first few positions, and then increase afterwards (despite actual clicks continuing to decrease with position)."
      ],
      "metadata": {
        "id": "JGm419beLMad"
      }
    },
    {
      "cell_type": "code",
      "source": [
        "test_with_mult_labels.groupby('position')[[label, \"pred_with_position\"]].mean().plot()"
      ],
      "metadata": {
        "colab": {
          "base_uri": "https://localhost:8080/",
          "height": 301
        },
        "id": "LBZDYsAW6ppX",
        "outputId": "d8a9550f-b629-48ef-f238-d4f00bf66506"
      },
      "execution_count": null,
      "outputs": [
        {
          "output_type": "execute_result",
          "data": {
            "text/plain": [
              "<matplotlib.axes._subplots.AxesSubplot at 0x7f3097b4c690>"
            ]
          },
          "metadata": {},
          "execution_count": 20
        },
        {
          "output_type": "display_data",
          "data": {
            "text/plain": [
              "<Figure size 432x288 with 1 Axes>"
            ],
            "image/png": "[encoded data removed]"
          },
          "metadata": {
            "needs_background": "light"
          }
        }
      ]
    },
    {
      "cell_type": "markdown",
      "source": [
        "## GBDT model\n",
        "\n",
        "Using a logistic model might be unfair, because it has very little expressiveness for complex relationships. However, if we use a somewhat more expressive model (a basic gradient boosted decision tree) we can still see the same effect.\n",
        "\n",
        "Multiplicative behavior is hard to fit correctly. Fitting the training data is not the same as finding the true behavior model."
      ],
      "metadata": {
        "id": "Yv7Qv3n4LmYc"
      }
    },
    {
      "cell_type": "code",
      "source": [
        "X = with_mult_labels[features_with_position]\n",
        "y = with_mult_labels[label]\n",
        "\n",
        "num_estimators = 100\n",
        "\n",
        "clf = GradientBoostingClassifier(n_estimators=num_estimators, learning_rate=0.1, \n",
        "                                 max_depth=3, random_state=0).fit(X, y)\n",
        "\n",
        "test_deviance = np.zeros((num_estimators,), dtype=np.float64)\n",
        "\n",
        "for i, y_pred in enumerate(clf.staged_decision_function(X)):\n",
        "    test_deviance[i] = clf.loss_(y, y_pred)\n",
        "\n",
        "plt.plot(\n",
        "    (np.arange(test_deviance.shape[0]) + 1)[::5],\n",
        "    test_deviance[::5],\n",
        "    \"-\",\n",
        "    label=label,\n",
        ")\n",
        "\n",
        "plt.xlabel(\"Iteration\")\n",
        "plt.ylabel(\"Loss\")\n",
        "plt.title(\"Training loss by iteration\")\n",
        "\n",
        "None"
      ],
      "metadata": {
        "colab": {
          "base_uri": "https://localhost:8080/",
          "height": 295
        },
        "id": "iuABdjQVSWNN",
        "outputId": "198e9555-28cd-4df0-ba02-8d6200d7ff0e"
      },
      "execution_count": null,
      "outputs": [
        {
          "output_type": "display_data",
          "data": {
            "text/plain": [
              "<Figure size 432x288 with 1 Axes>"
            ],
            "image/png": "[encoded data removed]"
          },
          "metadata": {
            "needs_background": "light"
          }
        }
      ]
    },
    {
      "cell_type": "markdown",
      "source": [
        "This model at least learns to put less weight on `num_reviews` than `avg_rating`. We likely are getting closer to a correct model."
      ],
      "metadata": {
        "id": "Kv6kqVwmMwdD"
      }
    },
    {
      "cell_type": "code",
      "source": [
        "list(zip(features_with_position, clf.feature_importances_))"
      ],
      "metadata": {
        "colab": {
          "base_uri": "https://localhost:8080/"
        },
        "id": "SV3Cnmz9MpqM",
        "outputId": "593dc825-efa4-435b-a001-b9bd32ad66e0"
      },
      "execution_count": null,
      "outputs": [
        {
          "output_type": "execute_result",
          "data": {
            "text/plain": [
              "[('inverse_position', 0.8726239623331307),\n",
              " ('avg_rating', 0.12003462879018513),\n",
              " ('num_reviews', 0.007341408876684321)]"
            ]
          },
          "metadata": {},
          "execution_count": 22
        }
      ]
    },
    {
      "cell_type": "markdown",
      "source": [
        "On the test sample our predictions still have poor calibration."
      ],
      "metadata": {
        "id": "o6qmLfF3MBYj"
      }
    },
    {
      "cell_type": "code",
      "source": [
        "X_test = test_with_mult_labels[features_with_position]\n",
        "y_test = test_with_mult_labels[label]\n",
        "\n",
        "preds_gbdt = [pred[1] for pred in clf.predict_proba(X_test)]\n",
        "\n",
        "test_with_mult_labels[\"pred_gbdt\"] = preds_gbdt\n",
        "\n",
        "plot_calibration_curve(test_with_mult_labels[label], test_with_mult_labels[\"pred_gbdt\"])\n",
        "\n",
        "None"
      ],
      "metadata": {
        "colab": {
          "base_uri": "https://localhost:8080/",
          "height": 729
        },
        "id": "-JszGJDE1z1A",
        "outputId": "5876c168-b832-4c1f-d170-9cfd10dddd67"
      },
      "execution_count": null,
      "outputs": [
        {
          "output_type": "display_data",
          "data": {
            "text/plain": [
              "<Figure size 720x720 with 2 Axes>"
            ],
            "image/png": "[encoded data removed]"
          },
          "metadata": {
            "needs_background": "light"
          }
        }
      ]
    },
    {
      "cell_type": "markdown",
      "source": [
        "Predictions now diminish monotonically with respect to position, but more dramatically than actual clicks."
      ],
      "metadata": {
        "id": "sbjBwOUvMWhL"
      }
    },
    {
      "cell_type": "code",
      "source": [
        "test_with_mult_labels.groupby('position')[[label, \"pred_gbdt\"]].mean().plot()\n",
        "\n",
        "None"
      ],
      "metadata": {
        "colab": {
          "base_uri": "https://localhost:8080/",
          "height": 279
        },
        "id": "wX-xEibT2IQ8",
        "outputId": "849226af-5a03-461e-f8e6-f7dff3edb868"
      },
      "execution_count": null,
      "outputs": [
        {
          "output_type": "display_data",
          "data": {
            "text/plain": [
              "<Figure size 432x288 with 1 Axes>"
            ],
            "image/png": "[encoded data removed]"
          },
          "metadata": {
            "needs_background": "light"
          }
        }
      ]
    },
    {
      "cell_type": "markdown",
      "source": [
        "It's promising that the GBDT does a lot better than the logistic model. I purposely kept the model fairly underspecified. Perhaps a larger and more expressive model could do better yet."
      ],
      "metadata": {
        "id": "Psigm8_iIP8H"
      }
    },
    {
      "cell_type": "markdown",
      "source": [
        "# Conclusion"
      ],
      "metadata": {
        "id": "PRnVKlddNV3F"
      }
    },
    {
      "cell_type": "markdown",
      "source": [
        "Ultimately, functional form matters a lot. If we have the right functional form then we can attribute an approrpriate effect to position even without a complex model, letting us correctly estimate counterfactuals with different ranking algorithms. However if we have an incorrectly identified model, accurate performance on the training sample won't generalize to other rankers. Which is a problem if we want to change our ranking."
      ],
      "metadata": {
        "id": "5ovM3fynM_wy"
      }
    },
    {
      "cell_type": "code",
      "source": [],
      "metadata": {
        "id": "U0YUcI4h54YQ"
      },
      "execution_count": null,
      "outputs": []
    }
  ]
}